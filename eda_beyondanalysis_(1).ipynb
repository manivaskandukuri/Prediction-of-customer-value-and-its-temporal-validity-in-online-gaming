{
 "cells": [
  {
   "cell_type": "code",
   "execution_count": null,
   "metadata": {
    "_cell_guid": "b1076dfc-b9ad-4769-8c92-a6c4dae69d19",
    "_uuid": "8f2839f25d086af736a60e9eeb907d3b93b6e0e5",
    "execution": {
     "iopub.execute_input": "2021-09-01T13:41:01.722265Z",
     "iopub.status.busy": "2021-09-01T13:41:01.721167Z",
     "iopub.status.idle": "2021-09-01T13:41:01.734600Z",
     "shell.execute_reply": "2021-09-01T13:41:01.733863Z",
     "shell.execute_reply.started": "2021-09-01T13:38:03.977687Z"
    },
    "id": "97443635",
    "papermill": {
     "duration": 0.074637,
     "end_time": "2021-09-01T13:41:01.734801",
     "exception": false,
     "start_time": "2021-09-01T13:41:01.660164",
     "status": "completed"
    },
    "tags": []
   },
   "outputs": [],
   "source": [
    "# This Python 3 environment comes with many helpful analytics libraries installed\n",
    "# It is defined by the kaggle/python Docker image: https://github.com/kaggle/docker-python\n",
    "# For example, here's several helpful packages to load\n",
    "\n",
    "import numpy as np # linear algebra\n",
    "import pandas as pd # data processing, CSV file I/O (e.g. pd.read_csv)\n",
    "\n",
    "# Input data files are available in the read-only \"../input/\" directory\n",
    "# For example, running this (by clicking run or pressing Shift+Enter) will list all files under the input directory\n",
    "\n",
    "import os\n",
    "for dirname, _, filenames in os.walk('/kaggle/input'):\n",
    "    for filename in filenames:\n",
    "        print(os.path.join(dirname, filename))\n",
    "\n",
    "# You can write up to 20GB to the current directory (/kaggle/working/) that gets preserved as output when you create a version using \"Save & Run All\" \n",
    "# You can also write temporary files to /kaggle/temp/, but they won't be saved outside of the current session"
   ]
  },
  {
   "cell_type": "markdown",
   "metadata": {
    "id": "a83c45d0",
    "papermill": {
     "duration": 0.057008,
     "end_time": "2021-09-01T13:41:01.847838",
     "exception": false,
     "start_time": "2021-09-01T13:41:01.790830",
     "status": "completed"
    },
    "tags": []
   },
   "source": [
    "### EXPLORATORY DATA ANALYSIS"
   ]
  },
  {
   "cell_type": "code",
   "execution_count": null,
   "metadata": {
    "execution": {
     "iopub.execute_input": "2021-09-01T13:41:01.970146Z",
     "iopub.status.busy": "2021-09-01T13:41:01.969319Z",
     "iopub.status.idle": "2021-09-01T13:41:07.073952Z",
     "shell.execute_reply": "2021-09-01T13:41:07.074454Z",
     "shell.execute_reply.started": "2021-09-01T13:38:04.742296Z"
    },
    "id": "7fdb46e6",
    "papermill": {
     "duration": 5.1644,
     "end_time": "2021-09-01T13:41:07.074626",
     "exception": false,
     "start_time": "2021-09-01T13:41:01.910226",
     "status": "completed"
    },
    "tags": []
   },
   "outputs": [],
   "source": [
    "df = pd.read_csv('/content/drive/MyDrive/train.csv')"
   ]
  },
  {
   "cell_type": "code",
   "execution_count": null,
   "metadata": {
    "execution": {
     "iopub.execute_input": "2021-09-01T13:41:07.186922Z",
     "iopub.status.busy": "2021-09-01T13:41:07.186263Z",
     "iopub.status.idle": "2021-09-01T13:41:07.188984Z",
     "shell.execute_reply": "2021-09-01T13:41:07.189450Z",
     "shell.execute_reply.started": "2021-09-01T13:38:10.501146Z"
    },
    "id": "f640c050",
    "papermill": {
     "duration": 0.060549,
     "end_time": "2021-09-01T13:41:07.189614",
     "exception": false,
     "start_time": "2021-09-01T13:41:07.129065",
     "status": "completed"
    },
    "tags": []
   },
   "outputs": [],
   "source": [
    "# HOW TO AGGREGATE THE DATA\n",
    "aggregate_by = 'median'"
   ]
  },
  {
   "cell_type": "code",
   "execution_count": null,
   "metadata": {
    "colab": {
     "base_uri": "https://localhost:8080/",
     "height": 716
    },
    "execution": {
     "iopub.execute_input": "2021-09-01T13:41:07.302371Z",
     "iopub.status.busy": "2021-09-01T13:41:07.301811Z",
     "iopub.status.idle": "2021-09-01T13:41:08.267005Z",
     "shell.execute_reply": "2021-09-01T13:41:08.267507Z",
     "shell.execute_reply.started": "2021-09-01T13:38:10.507619Z"
    },
    "id": "58b51cd8",
    "outputId": "c8539e0c-0d6b-4b6f-ff64-8de9adff73d2",
    "papermill": {
     "duration": 1.022958,
     "end_time": "2021-09-01T13:41:08.267689",
     "exception": false,
     "start_time": "2021-09-01T13:41:07.244731",
     "status": "completed"
    },
    "tags": []
   },
   "outputs": [
    {
     "name": "stdout",
     "output_type": "stream",
     "text": [
      "Shape of the train-set = (1246837, 25)\n",
      "\n"
     ]
    },
    {
     "data": {
      "text/html": [
       "<div>\n",
       "<style scoped>\n",
       "    .dataframe tbody tr th:only-of-type {\n",
       "        vertical-align: middle;\n",
       "    }\n",
       "\n",
       "    .dataframe tbody tr th {\n",
       "        vertical-align: top;\n",
       "    }\n",
       "\n",
       "    .dataframe thead th {\n",
       "        text-align: right;\n",
       "    }\n",
       "</style>\n",
       "<table border=\"1\" class=\"dataframe\">\n",
       "  <thead>\n",
       "    <tr style=\"text-align: right;\">\n",
       "      <th></th>\n",
       "      <th>UNIQUE_IDENTIFIER</th>\n",
       "      <th>SEQUENCE_NO</th>\n",
       "      <th>STATUS_CHECK</th>\n",
       "      <th>CATEGORY_1</th>\n",
       "      <th>CATEGORY_2</th>\n",
       "      <th>ACTIVE_YN</th>\n",
       "      <th>ENTRY</th>\n",
       "      <th>REVENUE</th>\n",
       "      <th>WINNINGS_1</th>\n",
       "      <th>WINNINGS_2</th>\n",
       "      <th>DISCOUNT</th>\n",
       "      <th>DEPOSIT</th>\n",
       "      <th>DEPOSIT_NUMBER</th>\n",
       "      <th>DEPOSIT_2</th>\n",
       "      <th>WITHDRAW</th>\n",
       "      <th>WITHDRAW_NUMBER</th>\n",
       "      <th>DEPOSIT_TRAILS</th>\n",
       "      <th>ENTRY_NUMBER</th>\n",
       "      <th>WINNINGS_NUMBER</th>\n",
       "      <th>PRACTICE_ENTRY</th>\n",
       "      <th>PRACTICE_WINNINGS</th>\n",
       "      <th>PRACTICE_ENTRY_NUMBER</th>\n",
       "      <th>PRACTICE_WINNINGS_NUMBER</th>\n",
       "      <th>Y1</th>\n",
       "      <th>Y2</th>\n",
       "    </tr>\n",
       "  </thead>\n",
       "  <tbody>\n",
       "    <tr>\n",
       "      <th>0</th>\n",
       "      <td>98481267304</td>\n",
       "      <td>1</td>\n",
       "      <td>0</td>\n",
       "      <td>M</td>\n",
       "      <td>B</td>\n",
       "      <td>1</td>\n",
       "      <td>0.00000</td>\n",
       "      <td>0.000000</td>\n",
       "      <td>0.00000</td>\n",
       "      <td>0.0</td>\n",
       "      <td>0.0</td>\n",
       "      <td>0.25</td>\n",
       "      <td>0.1</td>\n",
       "      <td>0.25</td>\n",
       "      <td>0.0</td>\n",
       "      <td>0.0</td>\n",
       "      <td>0.0</td>\n",
       "      <td>0.0</td>\n",
       "      <td>0.0</td>\n",
       "      <td>0.0</td>\n",
       "      <td>0.0</td>\n",
       "      <td>0.0</td>\n",
       "      <td>0.0</td>\n",
       "      <td>4.449287</td>\n",
       "      <td>101.369863</td>\n",
       "    </tr>\n",
       "    <tr>\n",
       "      <th>1</th>\n",
       "      <td>98481267304</td>\n",
       "      <td>2</td>\n",
       "      <td>0</td>\n",
       "      <td>M</td>\n",
       "      <td>B</td>\n",
       "      <td>1</td>\n",
       "      <td>0.13735</td>\n",
       "      <td>0.011550</td>\n",
       "      <td>0.09990</td>\n",
       "      <td>0.0</td>\n",
       "      <td>0.0</td>\n",
       "      <td>0.00</td>\n",
       "      <td>0.0</td>\n",
       "      <td>0.00</td>\n",
       "      <td>0.0</td>\n",
       "      <td>0.0</td>\n",
       "      <td>0.0</td>\n",
       "      <td>1.8</td>\n",
       "      <td>1.0</td>\n",
       "      <td>0.0</td>\n",
       "      <td>0.0</td>\n",
       "      <td>0.0</td>\n",
       "      <td>0.0</td>\n",
       "      <td>4.449287</td>\n",
       "      <td>101.369863</td>\n",
       "    </tr>\n",
       "    <tr>\n",
       "      <th>2</th>\n",
       "      <td>98481267304</td>\n",
       "      <td>3</td>\n",
       "      <td>0</td>\n",
       "      <td>M</td>\n",
       "      <td>B</td>\n",
       "      <td>1</td>\n",
       "      <td>0.15835</td>\n",
       "      <td>0.010425</td>\n",
       "      <td>0.02420</td>\n",
       "      <td>0.0</td>\n",
       "      <td>0.0</td>\n",
       "      <td>0.00</td>\n",
       "      <td>0.0</td>\n",
       "      <td>0.00</td>\n",
       "      <td>0.0</td>\n",
       "      <td>0.0</td>\n",
       "      <td>0.0</td>\n",
       "      <td>0.7</td>\n",
       "      <td>0.3</td>\n",
       "      <td>0.0</td>\n",
       "      <td>0.0</td>\n",
       "      <td>0.0</td>\n",
       "      <td>0.0</td>\n",
       "      <td>4.449287</td>\n",
       "      <td>101.369863</td>\n",
       "    </tr>\n",
       "    <tr>\n",
       "      <th>3</th>\n",
       "      <td>98481267304</td>\n",
       "      <td>4</td>\n",
       "      <td>0</td>\n",
       "      <td>M</td>\n",
       "      <td>B</td>\n",
       "      <td>1</td>\n",
       "      <td>0.44490</td>\n",
       "      <td>0.035850</td>\n",
       "      <td>0.23980</td>\n",
       "      <td>0.0</td>\n",
       "      <td>0.0</td>\n",
       "      <td>0.00</td>\n",
       "      <td>0.0</td>\n",
       "      <td>0.00</td>\n",
       "      <td>0.0</td>\n",
       "      <td>0.0</td>\n",
       "      <td>0.0</td>\n",
       "      <td>2.8</td>\n",
       "      <td>1.5</td>\n",
       "      <td>0.0</td>\n",
       "      <td>0.0</td>\n",
       "      <td>0.0</td>\n",
       "      <td>0.0</td>\n",
       "      <td>4.449287</td>\n",
       "      <td>101.369863</td>\n",
       "    </tr>\n",
       "    <tr>\n",
       "      <th>4</th>\n",
       "      <td>98481267304</td>\n",
       "      <td>5</td>\n",
       "      <td>0</td>\n",
       "      <td>M</td>\n",
       "      <td>B</td>\n",
       "      <td>1</td>\n",
       "      <td>0.00000</td>\n",
       "      <td>0.000000</td>\n",
       "      <td>0.00000</td>\n",
       "      <td>0.0</td>\n",
       "      <td>0.0</td>\n",
       "      <td>0.00</td>\n",
       "      <td>0.0</td>\n",
       "      <td>0.00</td>\n",
       "      <td>0.0</td>\n",
       "      <td>0.0</td>\n",
       "      <td>0.0</td>\n",
       "      <td>0.0</td>\n",
       "      <td>0.0</td>\n",
       "      <td>0.0</td>\n",
       "      <td>0.0</td>\n",
       "      <td>0.0</td>\n",
       "      <td>0.0</td>\n",
       "      <td>4.449287</td>\n",
       "      <td>101.369863</td>\n",
       "    </tr>\n",
       "    <tr>\n",
       "      <th>5</th>\n",
       "      <td>98481267304</td>\n",
       "      <td>6</td>\n",
       "      <td>0</td>\n",
       "      <td>M</td>\n",
       "      <td>B</td>\n",
       "      <td>1</td>\n",
       "      <td>0.00000</td>\n",
       "      <td>0.000000</td>\n",
       "      <td>0.00000</td>\n",
       "      <td>0.0</td>\n",
       "      <td>0.0</td>\n",
       "      <td>0.00</td>\n",
       "      <td>0.0</td>\n",
       "      <td>0.00</td>\n",
       "      <td>0.0</td>\n",
       "      <td>0.0</td>\n",
       "      <td>0.0</td>\n",
       "      <td>0.1</td>\n",
       "      <td>0.0</td>\n",
       "      <td>0.0</td>\n",
       "      <td>0.0</td>\n",
       "      <td>0.0</td>\n",
       "      <td>0.0</td>\n",
       "      <td>4.449287</td>\n",
       "      <td>101.369863</td>\n",
       "    </tr>\n",
       "    <tr>\n",
       "      <th>6</th>\n",
       "      <td>98481267304</td>\n",
       "      <td>7</td>\n",
       "      <td>0</td>\n",
       "      <td>M</td>\n",
       "      <td>B</td>\n",
       "      <td>1</td>\n",
       "      <td>0.04505</td>\n",
       "      <td>0.002950</td>\n",
       "      <td>0.00660</td>\n",
       "      <td>0.0</td>\n",
       "      <td>0.0</td>\n",
       "      <td>0.00</td>\n",
       "      <td>0.0</td>\n",
       "      <td>0.00</td>\n",
       "      <td>0.0</td>\n",
       "      <td>0.0</td>\n",
       "      <td>0.0</td>\n",
       "      <td>1.1</td>\n",
       "      <td>0.3</td>\n",
       "      <td>0.0</td>\n",
       "      <td>0.0</td>\n",
       "      <td>0.0</td>\n",
       "      <td>0.0</td>\n",
       "      <td>4.449287</td>\n",
       "      <td>101.369863</td>\n",
       "    </tr>\n",
       "    <tr>\n",
       "      <th>7</th>\n",
       "      <td>98481267698</td>\n",
       "      <td>1</td>\n",
       "      <td>1</td>\n",
       "      <td>M</td>\n",
       "      <td>I</td>\n",
       "      <td>1</td>\n",
       "      <td>5.00000</td>\n",
       "      <td>0.750000</td>\n",
       "      <td>0.00000</td>\n",
       "      <td>0.0</td>\n",
       "      <td>1.0</td>\n",
       "      <td>10.00</td>\n",
       "      <td>0.1</td>\n",
       "      <td>10.00</td>\n",
       "      <td>0.0</td>\n",
       "      <td>0.0</td>\n",
       "      <td>0.0</td>\n",
       "      <td>0.2</td>\n",
       "      <td>0.0</td>\n",
       "      <td>0.0</td>\n",
       "      <td>0.0</td>\n",
       "      <td>0.0</td>\n",
       "      <td>0.0</td>\n",
       "      <td>7.182779</td>\n",
       "      <td>115.068493</td>\n",
       "    </tr>\n",
       "    <tr>\n",
       "      <th>8</th>\n",
       "      <td>98481267698</td>\n",
       "      <td>2</td>\n",
       "      <td>1</td>\n",
       "      <td>M</td>\n",
       "      <td>I</td>\n",
       "      <td>1</td>\n",
       "      <td>11.25000</td>\n",
       "      <td>1.690000</td>\n",
       "      <td>24.64500</td>\n",
       "      <td>0.0</td>\n",
       "      <td>1.4</td>\n",
       "      <td>0.00</td>\n",
       "      <td>0.0</td>\n",
       "      <td>0.00</td>\n",
       "      <td>0.0</td>\n",
       "      <td>0.0</td>\n",
       "      <td>0.0</td>\n",
       "      <td>0.7</td>\n",
       "      <td>0.5</td>\n",
       "      <td>0.0</td>\n",
       "      <td>0.0</td>\n",
       "      <td>0.0</td>\n",
       "      <td>0.0</td>\n",
       "      <td>7.182779</td>\n",
       "      <td>115.068493</td>\n",
       "    </tr>\n",
       "    <tr>\n",
       "      <th>9</th>\n",
       "      <td>98481267698</td>\n",
       "      <td>3</td>\n",
       "      <td>1</td>\n",
       "      <td>M</td>\n",
       "      <td>I</td>\n",
       "      <td>1</td>\n",
       "      <td>47.14050</td>\n",
       "      <td>6.909500</td>\n",
       "      <td>45.69765</td>\n",
       "      <td>0.0</td>\n",
       "      <td>0.0</td>\n",
       "      <td>10.00</td>\n",
       "      <td>0.1</td>\n",
       "      <td>0.00</td>\n",
       "      <td>0.0</td>\n",
       "      <td>0.0</td>\n",
       "      <td>2.0</td>\n",
       "      <td>1.8</td>\n",
       "      <td>0.8</td>\n",
       "      <td>0.0</td>\n",
       "      <td>0.0</td>\n",
       "      <td>0.0</td>\n",
       "      <td>0.0</td>\n",
       "      <td>7.182779</td>\n",
       "      <td>115.068493</td>\n",
       "    </tr>\n",
       "  </tbody>\n",
       "</table>\n",
       "</div>"
      ],
      "text/plain": [
       "   UNIQUE_IDENTIFIER  SEQUENCE_NO  ...        Y1          Y2\n",
       "0        98481267304            1  ...  4.449287  101.369863\n",
       "1        98481267304            2  ...  4.449287  101.369863\n",
       "2        98481267304            3  ...  4.449287  101.369863\n",
       "3        98481267304            4  ...  4.449287  101.369863\n",
       "4        98481267304            5  ...  4.449287  101.369863\n",
       "5        98481267304            6  ...  4.449287  101.369863\n",
       "6        98481267304            7  ...  4.449287  101.369863\n",
       "7        98481267698            1  ...  7.182779  115.068493\n",
       "8        98481267698            2  ...  7.182779  115.068493\n",
       "9        98481267698            3  ...  7.182779  115.068493\n",
       "\n",
       "[10 rows x 25 columns]"
      ]
     },
     "metadata": {},
     "output_type": "display_data"
    },
    {
     "name": "stdout",
     "output_type": "stream",
     "text": [
      "\n"
     ]
    },
    {
     "data": {
      "text/html": [
       "<div>\n",
       "<style scoped>\n",
       "    .dataframe tbody tr th:only-of-type {\n",
       "        vertical-align: middle;\n",
       "    }\n",
       "\n",
       "    .dataframe tbody tr th {\n",
       "        vertical-align: top;\n",
       "    }\n",
       "\n",
       "    .dataframe thead th {\n",
       "        text-align: right;\n",
       "    }\n",
       "</style>\n",
       "<table border=\"1\" class=\"dataframe\">\n",
       "  <thead>\n",
       "    <tr style=\"text-align: right;\">\n",
       "      <th></th>\n",
       "      <th>UNIQUE_IDENTIFIER</th>\n",
       "      <th>SEQUENCE_NO</th>\n",
       "      <th>STATUS_CHECK</th>\n",
       "      <th>ACTIVE_YN</th>\n",
       "      <th>ENTRY</th>\n",
       "      <th>REVENUE</th>\n",
       "      <th>WINNINGS_1</th>\n",
       "      <th>WINNINGS_2</th>\n",
       "      <th>DISCOUNT</th>\n",
       "      <th>DEPOSIT</th>\n",
       "      <th>DEPOSIT_NUMBER</th>\n",
       "      <th>DEPOSIT_2</th>\n",
       "      <th>WITHDRAW</th>\n",
       "      <th>WITHDRAW_NUMBER</th>\n",
       "      <th>DEPOSIT_TRAILS</th>\n",
       "      <th>ENTRY_NUMBER</th>\n",
       "      <th>WINNINGS_NUMBER</th>\n",
       "      <th>PRACTICE_ENTRY</th>\n",
       "      <th>PRACTICE_WINNINGS</th>\n",
       "      <th>PRACTICE_ENTRY_NUMBER</th>\n",
       "      <th>PRACTICE_WINNINGS_NUMBER</th>\n",
       "      <th>Y1</th>\n",
       "      <th>Y2</th>\n",
       "    </tr>\n",
       "  </thead>\n",
       "  <tbody>\n",
       "    <tr>\n",
       "      <th>count</th>\n",
       "      <td>1.246837e+06</td>\n",
       "      <td>1.246837e+06</td>\n",
       "      <td>1.246837e+06</td>\n",
       "      <td>1.246837e+06</td>\n",
       "      <td>1.246837e+06</td>\n",
       "      <td>1.246837e+06</td>\n",
       "      <td>1.246837e+06</td>\n",
       "      <td>1.246837e+06</td>\n",
       "      <td>1.246837e+06</td>\n",
       "      <td>1.246837e+06</td>\n",
       "      <td>1.246837e+06</td>\n",
       "      <td>1.246837e+06</td>\n",
       "      <td>1.246837e+06</td>\n",
       "      <td>1.246837e+06</td>\n",
       "      <td>1.246837e+06</td>\n",
       "      <td>1.246837e+06</td>\n",
       "      <td>1.246837e+06</td>\n",
       "      <td>1.246837e+06</td>\n",
       "      <td>1.246837e+06</td>\n",
       "      <td>1.246837e+06</td>\n",
       "      <td>1.246837e+06</td>\n",
       "      <td>1.246837e+06</td>\n",
       "      <td>1.246837e+06</td>\n",
       "    </tr>\n",
       "    <tr>\n",
       "      <th>mean</th>\n",
       "      <td>9.852168e+10</td>\n",
       "      <td>1.105455e+01</td>\n",
       "      <td>4.223696e-01</td>\n",
       "      <td>9.868451e-01</td>\n",
       "      <td>4.726720e+00</td>\n",
       "      <td>5.350111e-01</td>\n",
       "      <td>3.700804e+00</td>\n",
       "      <td>4.262171e-02</td>\n",
       "      <td>4.482682e-01</td>\n",
       "      <td>7.602949e-01</td>\n",
       "      <td>3.938229e-02</td>\n",
       "      <td>1.011141e-01</td>\n",
       "      <td>6.076243e-02</td>\n",
       "      <td>1.604540e-03</td>\n",
       "      <td>1.379019e-01</td>\n",
       "      <td>2.268259e+00</td>\n",
       "      <td>7.415130e-01</td>\n",
       "      <td>3.447181e-01</td>\n",
       "      <td>2.749940e-01</td>\n",
       "      <td>3.990834e-02</td>\n",
       "      <td>1.652854e-02</td>\n",
       "      <td>6.508164e+00</td>\n",
       "      <td>2.081873e+02</td>\n",
       "    </tr>\n",
       "    <tr>\n",
       "      <th>std</th>\n",
       "      <td>6.339280e+06</td>\n",
       "      <td>7.850787e+00</td>\n",
       "      <td>4.939370e-01</td>\n",
       "      <td>1.139379e-01</td>\n",
       "      <td>2.609701e+01</td>\n",
       "      <td>2.557525e+00</td>\n",
       "      <td>2.222386e+01</td>\n",
       "      <td>8.355851e-01</td>\n",
       "      <td>2.193891e+00</td>\n",
       "      <td>3.407900e+00</td>\n",
       "      <td>7.926851e-02</td>\n",
       "      <td>8.268497e-01</td>\n",
       "      <td>1.133188e+00</td>\n",
       "      <td>1.532719e-02</td>\n",
       "      <td>1.171732e+00</td>\n",
       "      <td>4.263824e+00</td>\n",
       "      <td>1.567570e+00</td>\n",
       "      <td>5.121462e+00</td>\n",
       "      <td>4.754888e+00</td>\n",
       "      <td>4.349036e-01</td>\n",
       "      <td>1.926375e-01</td>\n",
       "      <td>1.162251e+01</td>\n",
       "      <td>2.269953e+02</td>\n",
       "    </tr>\n",
       "    <tr>\n",
       "      <th>min</th>\n",
       "      <td>9.848127e+10</td>\n",
       "      <td>1.000000e+00</td>\n",
       "      <td>0.000000e+00</td>\n",
       "      <td>0.000000e+00</td>\n",
       "      <td>0.000000e+00</td>\n",
       "      <td>0.000000e+00</td>\n",
       "      <td>0.000000e+00</td>\n",
       "      <td>0.000000e+00</td>\n",
       "      <td>0.000000e+00</td>\n",
       "      <td>0.000000e+00</td>\n",
       "      <td>0.000000e+00</td>\n",
       "      <td>0.000000e+00</td>\n",
       "      <td>0.000000e+00</td>\n",
       "      <td>0.000000e+00</td>\n",
       "      <td>0.000000e+00</td>\n",
       "      <td>0.000000e+00</td>\n",
       "      <td>0.000000e+00</td>\n",
       "      <td>0.000000e+00</td>\n",
       "      <td>0.000000e+00</td>\n",
       "      <td>0.000000e+00</td>\n",
       "      <td>0.000000e+00</td>\n",
       "      <td>2.604128e+00</td>\n",
       "      <td>0.000000e+00</td>\n",
       "    </tr>\n",
       "    <tr>\n",
       "      <th>25%</th>\n",
       "      <td>9.851986e+10</td>\n",
       "      <td>4.000000e+00</td>\n",
       "      <td>0.000000e+00</td>\n",
       "      <td>1.000000e+00</td>\n",
       "      <td>0.000000e+00</td>\n",
       "      <td>0.000000e+00</td>\n",
       "      <td>0.000000e+00</td>\n",
       "      <td>0.000000e+00</td>\n",
       "      <td>0.000000e+00</td>\n",
       "      <td>0.000000e+00</td>\n",
       "      <td>0.000000e+00</td>\n",
       "      <td>0.000000e+00</td>\n",
       "      <td>0.000000e+00</td>\n",
       "      <td>0.000000e+00</td>\n",
       "      <td>0.000000e+00</td>\n",
       "      <td>1.000000e-01</td>\n",
       "      <td>0.000000e+00</td>\n",
       "      <td>0.000000e+00</td>\n",
       "      <td>0.000000e+00</td>\n",
       "      <td>0.000000e+00</td>\n",
       "      <td>0.000000e+00</td>\n",
       "      <td>4.012769e+00</td>\n",
       "      <td>3.835616e+01</td>\n",
       "    </tr>\n",
       "    <tr>\n",
       "      <th>50%</th>\n",
       "      <td>9.852279e+10</td>\n",
       "      <td>1.000000e+01</td>\n",
       "      <td>0.000000e+00</td>\n",
       "      <td>1.000000e+00</td>\n",
       "      <td>4.500000e-01</td>\n",
       "      <td>5.970000e-02</td>\n",
       "      <td>1.888000e-01</td>\n",
       "      <td>0.000000e+00</td>\n",
       "      <td>0.000000e+00</td>\n",
       "      <td>0.000000e+00</td>\n",
       "      <td>0.000000e+00</td>\n",
       "      <td>0.000000e+00</td>\n",
       "      <td>0.000000e+00</td>\n",
       "      <td>0.000000e+00</td>\n",
       "      <td>0.000000e+00</td>\n",
       "      <td>7.000000e-01</td>\n",
       "      <td>2.000000e-01</td>\n",
       "      <td>0.000000e+00</td>\n",
       "      <td>0.000000e+00</td>\n",
       "      <td>0.000000e+00</td>\n",
       "      <td>0.000000e+00</td>\n",
       "      <td>4.202048e+00</td>\n",
       "      <td>1.150685e+02</td>\n",
       "    </tr>\n",
       "    <tr>\n",
       "      <th>75%</th>\n",
       "      <td>9.852542e+10</td>\n",
       "      <td>1.700000e+01</td>\n",
       "      <td>1.000000e+00</td>\n",
       "      <td>1.000000e+00</td>\n",
       "      <td>1.962600e+00</td>\n",
       "      <td>2.637500e-01</td>\n",
       "      <td>1.276900e+00</td>\n",
       "      <td>0.000000e+00</td>\n",
       "      <td>0.000000e+00</td>\n",
       "      <td>5.000000e-01</td>\n",
       "      <td>1.000000e-01</td>\n",
       "      <td>0.000000e+00</td>\n",
       "      <td>0.000000e+00</td>\n",
       "      <td>0.000000e+00</td>\n",
       "      <td>0.000000e+00</td>\n",
       "      <td>2.300000e+00</td>\n",
       "      <td>8.000000e-01</td>\n",
       "      <td>0.000000e+00</td>\n",
       "      <td>0.000000e+00</td>\n",
       "      <td>0.000000e+00</td>\n",
       "      <td>0.000000e+00</td>\n",
       "      <td>5.042758e+00</td>\n",
       "      <td>3.068493e+02</td>\n",
       "    </tr>\n",
       "    <tr>\n",
       "      <th>max</th>\n",
       "      <td>9.852732e+10</td>\n",
       "      <td>3.000000e+01</td>\n",
       "      <td>1.000000e+00</td>\n",
       "      <td>1.000000e+00</td>\n",
       "      <td>2.819799e+03</td>\n",
       "      <td>2.096527e+02</td>\n",
       "      <td>2.086580e+03</td>\n",
       "      <td>3.531417e+02</td>\n",
       "      <td>2.000000e+02</td>\n",
       "      <td>1.250000e+02</td>\n",
       "      <td>3.000000e+00</td>\n",
       "      <td>2.500000e+01</td>\n",
       "      <td>2.400000e+02</td>\n",
       "      <td>1.300000e+00</td>\n",
       "      <td>6.450000e+02</td>\n",
       "      <td>1.077000e+02</td>\n",
       "      <td>4.510000e+01</td>\n",
       "      <td>6.140000e+02</td>\n",
       "      <td>6.732000e+02</td>\n",
       "      <td>3.330000e+01</td>\n",
       "      <td>1.870000e+01</td>\n",
       "      <td>8.340632e+02</td>\n",
       "      <td>1.000000e+03</td>\n",
       "    </tr>\n",
       "  </tbody>\n",
       "</table>\n",
       "</div>"
      ],
      "text/plain": [
       "       UNIQUE_IDENTIFIER   SEQUENCE_NO  ...            Y1            Y2\n",
       "count       1.246837e+06  1.246837e+06  ...  1.246837e+06  1.246837e+06\n",
       "mean        9.852168e+10  1.105455e+01  ...  6.508164e+00  2.081873e+02\n",
       "std         6.339280e+06  7.850787e+00  ...  1.162251e+01  2.269953e+02\n",
       "min         9.848127e+10  1.000000e+00  ...  2.604128e+00  0.000000e+00\n",
       "25%         9.851986e+10  4.000000e+00  ...  4.012769e+00  3.835616e+01\n",
       "50%         9.852279e+10  1.000000e+01  ...  4.202048e+00  1.150685e+02\n",
       "75%         9.852542e+10  1.700000e+01  ...  5.042758e+00  3.068493e+02\n",
       "max         9.852732e+10  3.000000e+01  ...  8.340632e+02  1.000000e+03\n",
       "\n",
       "[8 rows x 23 columns]"
      ]
     },
     "metadata": {},
     "output_type": "display_data"
    }
   ],
   "source": [
    "print(f'Shape of the train-set = {df.shape}')\n",
    "print()\n",
    "display(df.head(10))\n",
    "print()\n",
    "display(df.describe())"
   ]
  },
  {
   "cell_type": "code",
   "execution_count": null,
   "metadata": {
    "_kg_hide-output": true,
    "colab": {
     "base_uri": "https://localhost:8080/"
    },
    "execution": {
     "iopub.execute_input": "2021-09-01T13:41:08.384545Z",
     "iopub.status.busy": "2021-09-01T13:41:08.383764Z",
     "iopub.status.idle": "2021-09-01T13:41:36.082866Z",
     "shell.execute_reply": "2021-09-01T13:41:36.082191Z",
     "shell.execute_reply.started": "2021-09-01T13:38:11.737934Z"
    },
    "id": "d300e929",
    "outputId": "04879b39-80a8-47ec-e0a8-b231291a12e7",
    "papermill": {
     "duration": 27.758321,
     "end_time": "2021-09-01T13:41:36.083002",
     "exception": false,
     "start_time": "2021-09-01T13:41:08.324681",
     "status": "completed"
    },
    "tags": []
   },
   "outputs": [
    {
     "name": "stdout",
     "output_type": "stream",
     "text": [
      "Requirement already satisfied: pandas-profiling in /usr/local/lib/python3.7/dist-packages (1.4.1)\n",
      "Requirement already satisfied: jinja2>=2.8 in /usr/local/lib/python3.7/dist-packages (from pandas-profiling) (2.11.3)\n",
      "Requirement already satisfied: six>=1.9 in /usr/local/lib/python3.7/dist-packages (from pandas-profiling) (1.15.0)\n",
      "Requirement already satisfied: matplotlib>=1.4 in /usr/local/lib/python3.7/dist-packages (from pandas-profiling) (3.2.2)\n",
      "Requirement already satisfied: pandas>=0.19 in /usr/local/lib/python3.7/dist-packages (from pandas-profiling) (1.1.5)\n",
      "Requirement already satisfied: MarkupSafe>=0.23 in /usr/local/lib/python3.7/dist-packages (from jinja2>=2.8->pandas-profiling) (2.0.1)\n",
      "Requirement already satisfied: numpy>=1.11 in /usr/local/lib/python3.7/dist-packages (from matplotlib>=1.4->pandas-profiling) (1.19.5)\n",
      "Requirement already satisfied: python-dateutil>=2.1 in /usr/local/lib/python3.7/dist-packages (from matplotlib>=1.4->pandas-profiling) (2.8.2)\n",
      "Requirement already satisfied: kiwisolver>=1.0.1 in /usr/local/lib/python3.7/dist-packages (from matplotlib>=1.4->pandas-profiling) (1.3.1)\n",
      "Requirement already satisfied: pyparsing!=2.0.4,!=2.1.2,!=2.1.6,>=2.0.1 in /usr/local/lib/python3.7/dist-packages (from matplotlib>=1.4->pandas-profiling) (2.4.7)\n",
      "Requirement already satisfied: cycler>=0.10 in /usr/local/lib/python3.7/dist-packages (from matplotlib>=1.4->pandas-profiling) (0.10.0)\n",
      "Requirement already satisfied: pytz>=2017.2 in /usr/local/lib/python3.7/dist-packages (from pandas>=0.19->pandas-profiling) (2018.9)\n"
     ]
    }
   ],
   "source": [
    "!pip install pandas-profiling\n",
    "#!pip install sweetviz\n",
    "#!pip install autoviz\n",
    "#!pip install dtale"
   ]
  },
  {
   "cell_type": "markdown",
   "metadata": {
    "id": "84f52775",
    "papermill": {
     "duration": 0.058214,
     "end_time": "2021-09-01T13:41:36.200546",
     "exception": false,
     "start_time": "2021-09-01T13:41:36.142332",
     "status": "completed"
    },
    "tags": []
   },
   "source": [
    "##### 1. PANDAS-PROFILING"
   ]
  },
  {
   "cell_type": "markdown",
   "metadata": {
    "id": "904a1a54",
    "papermill": {
     "duration": 0.059829,
     "end_time": "2021-09-01T13:41:39.111059",
     "exception": false,
     "start_time": "2021-09-01T13:41:39.051230",
     "status": "completed"
    },
    "tags": []
   },
   "source": [
    "### TESTING ML MODELS"
   ]
  },
  {
   "cell_type": "markdown",
   "metadata": {
    "id": "799092ae",
    "papermill": {
     "duration": 0.059187,
     "end_time": "2021-09-01T13:41:39.230334",
     "exception": false,
     "start_time": "2021-09-01T13:41:39.171147",
     "status": "completed"
    },
    "tags": []
   },
   "source": [
    "#### 1. XGBOOST"
   ]
  },
  {
   "cell_type": "code",
   "execution_count": null,
   "metadata": {
    "execution": {
     "iopub.execute_input": "2021-09-01T13:41:39.353970Z",
     "iopub.status.busy": "2021-09-01T13:41:39.353293Z",
     "iopub.status.idle": "2021-09-01T13:41:39.524662Z",
     "shell.execute_reply": "2021-09-01T13:41:39.524125Z",
     "shell.execute_reply.started": "2021-09-01T13:38:40.796232Z"
    },
    "id": "e4e62558",
    "papermill": {
     "duration": 0.234626,
     "end_time": "2021-09-01T13:41:39.524824",
     "exception": false,
     "start_time": "2021-09-01T13:41:39.290198",
     "status": "completed"
    },
    "tags": []
   },
   "outputs": [],
   "source": [
    "import xgboost as xgb\n",
    "from sklearn.metrics import mean_squared_error\n",
    "import pandas as pd\n",
    "import numpy as np\n",
    "from sklearn.multioutput import MultiOutputRegressor\n",
    "#from sklearn.grid_search import GridSearchCV   #Perforing grid search"
   ]
  },
  {
   "cell_type": "code",
   "execution_count": null,
   "metadata": {
    "execution": {
     "iopub.execute_input": "2021-09-01T13:41:39.648523Z",
     "iopub.status.busy": "2021-09-01T13:41:39.647781Z",
     "iopub.status.idle": "2021-09-01T13:41:39.675650Z",
     "shell.execute_reply": "2021-09-01T13:41:39.674964Z",
     "shell.execute_reply.started": "2021-09-01T13:38:40.856662Z"
    },
    "id": "5b8e29bb",
    "papermill": {
     "duration": 0.09084,
     "end_time": "2021-09-01T13:41:39.675784",
     "exception": false,
     "start_time": "2021-09-01T13:41:39.584944",
     "status": "completed"
    },
    "tags": []
   },
   "outputs": [],
   "source": [
    "# TAKING THE OBJECT TYPE COLUMNS ONLY\n",
    "cat_columns = df.select_dtypes(['object']).columns"
   ]
  },
  {
   "cell_type": "code",
   "execution_count": null,
   "metadata": {
    "colab": {
     "base_uri": "https://localhost:8080/"
    },
    "execution": {
     "iopub.execute_input": "2021-09-01T13:41:39.799400Z",
     "iopub.status.busy": "2021-09-01T13:41:39.798633Z",
     "iopub.status.idle": "2021-09-01T13:41:39.802379Z",
     "shell.execute_reply": "2021-09-01T13:41:39.801964Z",
     "shell.execute_reply.started": "2021-09-01T13:38:40.893276Z"
    },
    "id": "5ed08e1e",
    "outputId": "19b680e2-14f3-4127-9b18-c28481657662",
    "papermill": {
     "duration": 0.067452,
     "end_time": "2021-09-01T13:41:39.802517",
     "exception": false,
     "start_time": "2021-09-01T13:41:39.735065",
     "status": "completed"
    },
    "tags": []
   },
   "outputs": [
    {
     "data": {
      "text/plain": [
       "Index(['CATEGORY_1', 'CATEGORY_2'], dtype='object')"
      ]
     },
     "execution_count": 312,
     "metadata": {},
     "output_type": "execute_result"
    }
   ],
   "source": [
    "# PRINT THE OBJECT TYPE COLUMNS\n",
    "cat_columns"
   ]
  },
  {
   "cell_type": "code",
   "execution_count": null,
   "metadata": {
    "execution": {
     "iopub.execute_input": "2021-09-01T13:41:39.923931Z",
     "iopub.status.busy": "2021-09-01T13:41:39.923284Z",
     "iopub.status.idle": "2021-09-01T13:41:40.124918Z",
     "shell.execute_reply": "2021-09-01T13:41:40.125403Z",
     "shell.execute_reply.started": "2021-09-01T13:38:40.901570Z"
    },
    "id": "06816a11",
    "papermill": {
     "duration": 0.263599,
     "end_time": "2021-09-01T13:41:40.125598",
     "exception": false,
     "start_time": "2021-09-01T13:41:39.861999",
     "status": "completed"
    },
    "tags": []
   },
   "outputs": [],
   "source": [
    "# CONVERT OBJECT TO CATEGORY\n",
    "for column in ['CATEGORY_1', 'CATEGORY_2']:\n",
    "    df[column] = df[column].astype('category')"
   ]
  },
  {
   "cell_type": "code",
   "execution_count": null,
   "metadata": {
    "execution": {
     "iopub.execute_input": "2021-09-01T13:41:40.247229Z",
     "iopub.status.busy": "2021-09-01T13:41:40.246629Z",
     "iopub.status.idle": "2021-09-01T13:41:40.258246Z",
     "shell.execute_reply": "2021-09-01T13:41:40.257636Z",
     "shell.execute_reply.started": "2021-09-01T13:38:41.140896Z"
    },
    "id": "ec1fcf46",
    "papermill": {
     "duration": 0.072726,
     "end_time": "2021-09-01T13:41:40.258364",
     "exception": false,
     "start_time": "2021-09-01T13:41:40.185638",
     "status": "completed"
    },
    "tags": []
   },
   "outputs": [],
   "source": [
    "# CONVERT CATEGORY TO INT8\n",
    "df[cat_columns] = df[cat_columns].apply(lambda x: x.cat.codes)"
   ]
  },
  {
   "cell_type": "code",
   "execution_count": null,
   "metadata": {
    "execution": {
     "iopub.execute_input": "2021-09-01T13:41:40.382743Z",
     "iopub.status.busy": "2021-09-01T13:41:40.381709Z",
     "iopub.status.idle": "2021-09-01T13:41:40.398185Z",
     "shell.execute_reply": "2021-09-01T13:41:40.397593Z",
     "shell.execute_reply.started": "2021-09-01T13:38:41.153803Z"
    },
    "id": "9e95a632",
    "papermill": {
     "duration": 0.080547,
     "end_time": "2021-09-01T13:41:40.398307",
     "exception": false,
     "start_time": "2021-09-01T13:41:40.317760",
     "status": "completed"
    },
    "tags": []
   },
   "outputs": [],
   "source": [
    "# INT8 TO INT 64\n",
    "for column in ['CATEGORY_1', 'CATEGORY_2']:\n",
    "    df[column] = df[column].astype('int64')"
   ]
  },
  {
   "cell_type": "code",
   "execution_count": null,
   "metadata": {
    "colab": {
     "base_uri": "https://localhost:8080/"
    },
    "execution": {
     "iopub.execute_input": "2021-09-01T13:41:40.525510Z",
     "iopub.status.busy": "2021-09-01T13:41:40.523797Z",
     "iopub.status.idle": "2021-09-01T13:41:40.583281Z",
     "shell.execute_reply": "2021-09-01T13:41:40.582369Z",
     "shell.execute_reply.started": "2021-09-01T13:38:41.187337Z"
    },
    "id": "010171a1",
    "outputId": "1b088350-8fbc-4918-c086-7f02a0823791",
    "papermill": {
     "duration": 0.125363,
     "end_time": "2021-09-01T13:41:40.583468",
     "exception": false,
     "start_time": "2021-09-01T13:41:40.458105",
     "status": "completed"
    },
    "tags": []
   },
   "outputs": [
    {
     "name": "stdout",
     "output_type": "stream",
     "text": [
      "CATEGORY 1:\n",
      "(array([0, 1, 2, 3, 4, 5, 6, 7, 8, 9]), array([ 76083, 651499, 111840,   1879,  18572,   1805,   5793, 309891,\n",
      "         1247,  68228]))\n",
      "\n",
      "CATEGORY 2:\n",
      "(array([0, 1, 2, 3, 4, 5, 6, 7, 8]), array([146104, 117569,  18152, 257078,   6568,  21381,   3613,   7011,\n",
      "       669361]))\n"
     ]
    }
   ],
   "source": [
    "# RESULTS AFTER CONVERTSION TO INT64\n",
    "print('CATEGORY 1:')\n",
    "print(np.unique(np.array(df['CATEGORY_1']), return_counts = True))\n",
    "print()\n",
    "print('CATEGORY 2:')\n",
    "print(np.unique(np.array(df['CATEGORY_2']), return_counts = True))"
   ]
  },
  {
   "cell_type": "code",
   "execution_count": null,
   "metadata": {
    "colab": {
     "base_uri": "https://localhost:8080/"
    },
    "execution": {
     "iopub.execute_input": "2021-09-01T13:41:40.709711Z",
     "iopub.status.busy": "2021-09-01T13:41:40.709112Z",
     "iopub.status.idle": "2021-09-01T13:41:40.783994Z",
     "shell.execute_reply": "2021-09-01T13:41:40.783150Z",
     "shell.execute_reply.started": "2021-09-01T13:38:41.265113Z"
    },
    "id": "4afa1d42",
    "outputId": "0aa144fc-3c61-4efe-a91d-dad972ae5be1",
    "papermill": {
     "duration": 0.138938,
     "end_time": "2021-09-01T13:41:40.784185",
     "exception": false,
     "start_time": "2021-09-01T13:41:40.645247",
     "status": "completed"
    },
    "tags": []
   },
   "outputs": [
    {
     "name": "stdout",
     "output_type": "stream",
     "text": [
      "<class 'pandas.core.frame.DataFrame'>\n",
      "RangeIndex: 1246837 entries, 0 to 1246836\n",
      "Data columns (total 25 columns):\n",
      " #   Column                    Non-Null Count    Dtype  \n",
      "---  ------                    --------------    -----  \n",
      " 0   UNIQUE_IDENTIFIER         1246837 non-null  int64  \n",
      " 1   SEQUENCE_NO               1246837 non-null  int64  \n",
      " 2   STATUS_CHECK              1246837 non-null  int64  \n",
      " 3   CATEGORY_1                1246837 non-null  int64  \n",
      " 4   CATEGORY_2                1246837 non-null  int64  \n",
      " 5   ACTIVE_YN                 1246837 non-null  int64  \n",
      " 6   ENTRY                     1246837 non-null  float64\n",
      " 7   REVENUE                   1246837 non-null  float64\n",
      " 8   WINNINGS_1                1246837 non-null  float64\n",
      " 9   WINNINGS_2                1246837 non-null  float64\n",
      " 10  DISCOUNT                  1246837 non-null  float64\n",
      " 11  DEPOSIT                   1246837 non-null  float64\n",
      " 12  DEPOSIT_NUMBER            1246837 non-null  float64\n",
      " 13  DEPOSIT_2                 1246837 non-null  float64\n",
      " 14  WITHDRAW                  1246837 non-null  float64\n",
      " 15  WITHDRAW_NUMBER           1246837 non-null  float64\n",
      " 16  DEPOSIT_TRAILS            1246837 non-null  float64\n",
      " 17  ENTRY_NUMBER              1246837 non-null  float64\n",
      " 18  WINNINGS_NUMBER           1246837 non-null  float64\n",
      " 19  PRACTICE_ENTRY            1246837 non-null  float64\n",
      " 20  PRACTICE_WINNINGS         1246837 non-null  float64\n",
      " 21  PRACTICE_ENTRY_NUMBER     1246837 non-null  float64\n",
      " 22  PRACTICE_WINNINGS_NUMBER  1246837 non-null  float64\n",
      " 23  Y1                        1246837 non-null  float64\n",
      " 24  Y2                        1246837 non-null  float64\n",
      "dtypes: float64(19), int64(6)\n",
      "memory usage: 237.8 MB\n"
     ]
    }
   ],
   "source": [
    "# CHECKING FOR PROPER CONVERSION OF OBJECT TO INT64\n",
    "df.info()"
   ]
  },
  {
   "cell_type": "code",
   "execution_count": null,
   "metadata": {
    "colab": {
     "base_uri": "https://localhost:8080/"
    },
    "execution": {
     "iopub.execute_input": "2021-09-01T13:41:40.909720Z",
     "iopub.status.busy": "2021-09-01T13:41:40.909159Z",
     "iopub.status.idle": "2021-09-01T13:41:40.952016Z",
     "shell.execute_reply": "2021-09-01T13:41:40.952616Z",
     "shell.execute_reply.started": "2021-09-01T13:38:41.353016Z"
    },
    "id": "baf377fc",
    "outputId": "4daccc20-ca3d-4139-97e6-546f102414af",
    "papermill": {
     "duration": 0.107089,
     "end_time": "2021-09-01T13:41:40.952817",
     "exception": false,
     "start_time": "2021-09-01T13:41:40.845728",
     "status": "completed"
    },
    "tags": []
   },
   "outputs": [
    {
     "name": "stdout",
     "output_type": "stream",
     "text": [
      "(96298,)\n"
     ]
    }
   ],
   "source": [
    "print(np.unique(np.array(df['UNIQUE_IDENTIFIER']), return_counts = True)[0].shape)"
   ]
  },
  {
   "cell_type": "code",
   "execution_count": null,
   "metadata": {
    "colab": {
     "base_uri": "https://localhost:8080/"
    },
    "execution": {
     "iopub.execute_input": "2021-09-01T13:41:41.080401Z",
     "iopub.status.busy": "2021-09-01T13:41:41.079857Z",
     "iopub.status.idle": "2021-09-01T13:41:41.396465Z",
     "shell.execute_reply": "2021-09-01T13:41:41.396965Z",
     "shell.execute_reply.started": "2021-09-01T13:38:41.402742Z"
    },
    "id": "fbc97932",
    "outputId": "3ab628b7-badc-4767-fa6b-0eea8b901145",
    "papermill": {
     "duration": 0.380506,
     "end_time": "2021-09-01T13:41:41.397122",
     "exception": false,
     "start_time": "2021-09-01T13:41:41.016616",
     "status": "completed"
    },
    "tags": []
   },
   "outputs": [
    {
     "data": {
      "text/plain": [
       "(96298, 25)"
      ]
     },
     "execution_count": 319,
     "metadata": {},
     "output_type": "execute_result"
    }
   ],
   "source": [
    "# AGGREGATING THE DUPLICATE ROWS\n",
    "df = df.groupby(['UNIQUE_IDENTIFIER'],as_index = False).agg(aggregate_by)\n",
    "df.shape"
   ]
  },
  {
   "cell_type": "code",
   "execution_count": null,
   "metadata": {
    "execution": {
     "iopub.execute_input": "2021-09-01T13:41:41.526599Z",
     "iopub.status.busy": "2021-09-01T13:41:41.525933Z",
     "iopub.status.idle": "2021-09-01T13:41:41.528657Z",
     "shell.execute_reply": "2021-09-01T13:41:41.528063Z",
     "shell.execute_reply.started": "2021-09-01T13:38:41.916459Z"
    },
    "id": "f6275ba4",
    "papermill": {
     "duration": 0.069788,
     "end_time": "2021-09-01T13:41:41.528808",
     "exception": false,
     "start_time": "2021-09-01T13:41:41.459020",
     "status": "completed"
    },
    "tags": []
   },
   "outputs": [],
   "source": [
    "#col_to_drop = ['ENTRY', 'WINNINGS_1', 'ENTRY_NUMBER','PRACTICE_ENTRY','PRACTICE_ENTRY_NUMBER','CATEGORY_1','CATEGORY_2']\n",
    "#df = df.drop(col_to_drop, axis = 1)\n",
    "#col_to_take = ['SEQUENCE_NO', 'STATUS_CHECK', 'ENTRY', 'REVENUE', 'WINNINGS_1', 'DEPOSIT','Y1', 'Y2']\n",
    "#df = df.loc[:,col_to_take]"
   ]
  },
  {
   "cell_type": "code",
   "execution_count": null,
   "metadata": {
    "colab": {
     "base_uri": "https://localhost:8080/",
     "height": 225
    },
    "execution": {
     "iopub.execute_input": "2021-09-01T13:41:41.682216Z",
     "iopub.status.busy": "2021-09-01T13:41:41.681644Z",
     "iopub.status.idle": "2021-09-01T13:41:41.684455Z",
     "shell.execute_reply": "2021-09-01T13:41:41.684947Z",
     "shell.execute_reply.started": "2021-09-01T13:38:41.922771Z"
    },
    "id": "ed3ae4d5",
    "outputId": "1e8e1fd1-db30-4dd1-f3e5-5e4675c229fe",
    "papermill": {
     "duration": 0.094812,
     "end_time": "2021-09-01T13:41:41.685095",
     "exception": false,
     "start_time": "2021-09-01T13:41:41.590283",
     "status": "completed"
    },
    "tags": []
   },
   "outputs": [
    {
     "data": {
      "text/html": [
       "<div>\n",
       "<style scoped>\n",
       "    .dataframe tbody tr th:only-of-type {\n",
       "        vertical-align: middle;\n",
       "    }\n",
       "\n",
       "    .dataframe tbody tr th {\n",
       "        vertical-align: top;\n",
       "    }\n",
       "\n",
       "    .dataframe thead th {\n",
       "        text-align: right;\n",
       "    }\n",
       "</style>\n",
       "<table border=\"1\" class=\"dataframe\">\n",
       "  <thead>\n",
       "    <tr style=\"text-align: right;\">\n",
       "      <th></th>\n",
       "      <th>UNIQUE_IDENTIFIER</th>\n",
       "      <th>SEQUENCE_NO</th>\n",
       "      <th>STATUS_CHECK</th>\n",
       "      <th>CATEGORY_1</th>\n",
       "      <th>CATEGORY_2</th>\n",
       "      <th>ACTIVE_YN</th>\n",
       "      <th>ENTRY</th>\n",
       "      <th>REVENUE</th>\n",
       "      <th>WINNINGS_1</th>\n",
       "      <th>WINNINGS_2</th>\n",
       "      <th>DISCOUNT</th>\n",
       "      <th>DEPOSIT</th>\n",
       "      <th>DEPOSIT_NUMBER</th>\n",
       "      <th>DEPOSIT_2</th>\n",
       "      <th>WITHDRAW</th>\n",
       "      <th>WITHDRAW_NUMBER</th>\n",
       "      <th>DEPOSIT_TRAILS</th>\n",
       "      <th>ENTRY_NUMBER</th>\n",
       "      <th>WINNINGS_NUMBER</th>\n",
       "      <th>PRACTICE_ENTRY</th>\n",
       "      <th>PRACTICE_WINNINGS</th>\n",
       "      <th>PRACTICE_ENTRY_NUMBER</th>\n",
       "      <th>PRACTICE_WINNINGS_NUMBER</th>\n",
       "      <th>Y1</th>\n",
       "      <th>Y2</th>\n",
       "    </tr>\n",
       "  </thead>\n",
       "  <tbody>\n",
       "    <tr>\n",
       "      <th>0</th>\n",
       "      <td>98481267304</td>\n",
       "      <td>4.0</td>\n",
       "      <td>0.0</td>\n",
       "      <td>9.0</td>\n",
       "      <td>1.0</td>\n",
       "      <td>1.0</td>\n",
       "      <td>0.04505</td>\n",
       "      <td>0.00295</td>\n",
       "      <td>0.00660</td>\n",
       "      <td>0.0</td>\n",
       "      <td>0.0</td>\n",
       "      <td>0.0</td>\n",
       "      <td>0.0</td>\n",
       "      <td>0.0</td>\n",
       "      <td>0.0</td>\n",
       "      <td>0.0</td>\n",
       "      <td>0.0</td>\n",
       "      <td>0.7</td>\n",
       "      <td>0.3</td>\n",
       "      <td>0.0</td>\n",
       "      <td>0.0</td>\n",
       "      <td>0.0</td>\n",
       "      <td>0.0</td>\n",
       "      <td>4.449287</td>\n",
       "      <td>101.369863</td>\n",
       "    </tr>\n",
       "    <tr>\n",
       "      <th>1</th>\n",
       "      <td>98481267698</td>\n",
       "      <td>10.0</td>\n",
       "      <td>1.0</td>\n",
       "      <td>9.0</td>\n",
       "      <td>8.0</td>\n",
       "      <td>1.0</td>\n",
       "      <td>37.50000</td>\n",
       "      <td>4.57500</td>\n",
       "      <td>18.15835</td>\n",
       "      <td>0.0</td>\n",
       "      <td>0.0</td>\n",
       "      <td>0.0</td>\n",
       "      <td>0.0</td>\n",
       "      <td>0.0</td>\n",
       "      <td>0.0</td>\n",
       "      <td>0.0</td>\n",
       "      <td>0.0</td>\n",
       "      <td>0.5</td>\n",
       "      <td>0.1</td>\n",
       "      <td>0.0</td>\n",
       "      <td>0.0</td>\n",
       "      <td>0.0</td>\n",
       "      <td>0.0</td>\n",
       "      <td>7.182779</td>\n",
       "      <td>115.068493</td>\n",
       "    </tr>\n",
       "    <tr>\n",
       "      <th>2</th>\n",
       "      <td>98481269325</td>\n",
       "      <td>9.5</td>\n",
       "      <td>0.0</td>\n",
       "      <td>9.0</td>\n",
       "      <td>3.0</td>\n",
       "      <td>1.0</td>\n",
       "      <td>0.00000</td>\n",
       "      <td>0.00000</td>\n",
       "      <td>0.00000</td>\n",
       "      <td>0.0</td>\n",
       "      <td>0.0</td>\n",
       "      <td>0.0</td>\n",
       "      <td>0.0</td>\n",
       "      <td>0.0</td>\n",
       "      <td>0.0</td>\n",
       "      <td>0.0</td>\n",
       "      <td>0.0</td>\n",
       "      <td>0.1</td>\n",
       "      <td>0.0</td>\n",
       "      <td>0.0</td>\n",
       "      <td>0.0</td>\n",
       "      <td>0.0</td>\n",
       "      <td>0.0</td>\n",
       "      <td>3.977371</td>\n",
       "      <td>24.657534</td>\n",
       "    </tr>\n",
       "    <tr>\n",
       "      <th>3</th>\n",
       "      <td>98481271512</td>\n",
       "      <td>3.0</td>\n",
       "      <td>0.0</td>\n",
       "      <td>9.0</td>\n",
       "      <td>4.0</td>\n",
       "      <td>1.0</td>\n",
       "      <td>0.20000</td>\n",
       "      <td>0.03000</td>\n",
       "      <td>0.00000</td>\n",
       "      <td>0.0</td>\n",
       "      <td>0.0</td>\n",
       "      <td>0.0</td>\n",
       "      <td>0.0</td>\n",
       "      <td>0.0</td>\n",
       "      <td>0.0</td>\n",
       "      <td>0.0</td>\n",
       "      <td>0.5</td>\n",
       "      <td>0.3</td>\n",
       "      <td>0.0</td>\n",
       "      <td>0.0</td>\n",
       "      <td>0.0</td>\n",
       "      <td>0.0</td>\n",
       "      <td>0.0</td>\n",
       "      <td>3.988122</td>\n",
       "      <td>10.958904</td>\n",
       "    </tr>\n",
       "    <tr>\n",
       "      <th>4</th>\n",
       "      <td>98481273023</td>\n",
       "      <td>1.0</td>\n",
       "      <td>0.0</td>\n",
       "      <td>9.0</td>\n",
       "      <td>8.0</td>\n",
       "      <td>1.0</td>\n",
       "      <td>0.50000</td>\n",
       "      <td>0.08000</td>\n",
       "      <td>0.00000</td>\n",
       "      <td>0.0</td>\n",
       "      <td>0.0</td>\n",
       "      <td>0.5</td>\n",
       "      <td>0.1</td>\n",
       "      <td>0.5</td>\n",
       "      <td>0.0</td>\n",
       "      <td>0.0</td>\n",
       "      <td>0.0</td>\n",
       "      <td>0.2</td>\n",
       "      <td>0.0</td>\n",
       "      <td>0.0</td>\n",
       "      <td>0.0</td>\n",
       "      <td>0.0</td>\n",
       "      <td>0.0</td>\n",
       "      <td>4.128875</td>\n",
       "      <td>46.575342</td>\n",
       "    </tr>\n",
       "  </tbody>\n",
       "</table>\n",
       "</div>"
      ],
      "text/plain": [
       "   UNIQUE_IDENTIFIER  SEQUENCE_NO  ...        Y1          Y2\n",
       "0        98481267304          4.0  ...  4.449287  101.369863\n",
       "1        98481267698         10.0  ...  7.182779  115.068493\n",
       "2        98481269325          9.5  ...  3.977371   24.657534\n",
       "3        98481271512          3.0  ...  3.988122   10.958904\n",
       "4        98481273023          1.0  ...  4.128875   46.575342\n",
       "\n",
       "[5 rows x 25 columns]"
      ]
     },
     "execution_count": 321,
     "metadata": {},
     "output_type": "execute_result"
    }
   ],
   "source": [
    "df.head()"
   ]
  },
  {
   "cell_type": "code",
   "execution_count": null,
   "metadata": {
    "execution": {
     "iopub.execute_input": "2021-09-01T13:41:41.810041Z",
     "iopub.status.busy": "2021-09-01T13:41:41.809477Z",
     "iopub.status.idle": "2021-09-01T13:41:41.817923Z",
     "shell.execute_reply": "2021-09-01T13:41:41.818397Z",
     "shell.execute_reply.started": "2021-09-01T13:38:41.970285Z"
    },
    "id": "1c32b590",
    "papermill": {
     "duration": 0.072638,
     "end_time": "2021-09-01T13:41:41.818575",
     "exception": false,
     "start_time": "2021-09-01T13:41:41.745937",
     "status": "completed"
    },
    "tags": []
   },
   "outputs": [],
   "source": [
    "# INPUT OUTPUT SPLIT\n",
    "X, y = df.iloc[:,:-2],df.iloc[:,-2:]"
   ]
  },
  {
   "cell_type": "code",
   "execution_count": null,
   "metadata": {
    "execution": {
     "iopub.execute_input": "2021-09-01T13:41:41.944778Z",
     "iopub.status.busy": "2021-09-01T13:41:41.944209Z",
     "iopub.status.idle": "2021-09-01T13:41:41.947105Z",
     "shell.execute_reply": "2021-09-01T13:41:41.947653Z",
     "shell.execute_reply.started": "2021-09-01T12:52:43.29251Z"
    },
    "id": "ebb68edf",
    "papermill": {
     "duration": 0.068198,
     "end_time": "2021-09-01T13:41:41.947800",
     "exception": false,
     "start_time": "2021-09-01T13:41:41.879602",
     "status": "completed"
    },
    "tags": []
   },
   "outputs": [],
   "source": [
    "# CONVERSION TO DATAMATRIX FOR FASTER IMPLEMENTATION\n",
    "#data_dmatrix = xgb.DMatrix(data=X, label = y, enable_categorical=True)"
   ]
  },
  {
   "cell_type": "code",
   "execution_count": null,
   "metadata": {
    "execution": {
     "iopub.execute_input": "2021-09-01T13:41:42.072441Z",
     "iopub.status.busy": "2021-09-01T13:41:42.071920Z",
     "iopub.status.idle": "2021-09-01T13:41:42.099881Z",
     "shell.execute_reply": "2021-09-01T13:41:42.100362Z",
     "shell.execute_reply.started": "2021-09-01T13:38:41.983060Z"
    },
    "id": "20487858",
    "papermill": {
     "duration": 0.09282,
     "end_time": "2021-09-01T13:41:42.100538",
     "exception": false,
     "start_time": "2021-09-01T13:41:42.007718",
     "status": "completed"
    },
    "tags": []
   },
   "outputs": [],
   "source": [
    "# TRAIN TEST SPLIT\n",
    "from sklearn.model_selection import train_test_split\n",
    "\n",
    "X_train, X_test, y_train, y_test = train_test_split(X, y, test_size=0.33, random_state=42)"
   ]
  },
  {
   "cell_type": "code",
   "execution_count": null,
   "metadata": {
    "execution": {
     "iopub.execute_input": "2021-09-01T13:41:42.225192Z",
     "iopub.status.busy": "2021-09-01T13:41:42.224657Z",
     "iopub.status.idle": "2021-09-01T13:41:42.227950Z",
     "shell.execute_reply": "2021-09-01T13:41:42.228308Z",
     "shell.execute_reply.started": "2021-09-01T12:52:44.24328Z"
    },
    "id": "8e5713d7",
    "papermill": {
     "duration": 0.066723,
     "end_time": "2021-09-01T13:41:42.228443",
     "exception": false,
     "start_time": "2021-09-01T13:41:42.161720",
     "status": "completed"
    },
    "tags": []
   },
   "outputs": [],
   "source": [
    "# CONVERSION TO DATAMATRIX FOR FASTER IMPLEMENTATION\n",
    "#dtrain = xgb.DMatrix(X_train, label=y_train)\n",
    "#dtest = xgb.DMatrix(X_test, label=y_test)"
   ]
  },
  {
   "cell_type": "code",
   "execution_count": null,
   "metadata": {
    "colab": {
     "base_uri": "https://localhost:8080/"
    },
    "execution": {
     "iopub.execute_input": "2021-09-01T13:41:42.356990Z",
     "iopub.status.busy": "2021-09-01T13:41:42.356399Z",
     "iopub.status.idle": "2021-09-01T13:41:42.361146Z",
     "shell.execute_reply": "2021-09-01T13:41:42.360683Z",
     "shell.execute_reply.started": "2021-09-01T13:38:42.323194Z"
    },
    "id": "2422b18d",
    "outputId": "21b61417-dad6-4c2e-8c03-7994d0ec4fd9",
    "papermill": {
     "duration": 0.071516,
     "end_time": "2021-09-01T13:41:42.361264",
     "exception": false,
     "start_time": "2021-09-01T13:41:42.289748",
     "status": "completed"
    },
    "tags": []
   },
   "outputs": [
    {
     "name": "stdout",
     "output_type": "stream",
     "text": [
      "(64519, 23)\n",
      "(31779, 23)\n",
      "(64519, 2)\n",
      "(31779, 2)\n"
     ]
    }
   ],
   "source": [
    "# PRINT SHAPES OF TRAIN AND TEST DATA\n",
    "print(X_train.shape)\n",
    "print(X_test.shape)\n",
    "print(y_train.shape)\n",
    "print(y_test.shape)"
   ]
  },
  {
   "cell_type": "code",
   "execution_count": null,
   "metadata": {
    "colab": {
     "base_uri": "https://localhost:8080/",
     "height": 69
    },
    "execution": {
     "iopub.execute_input": "2021-09-01T13:41:42.491365Z",
     "iopub.status.busy": "2021-09-01T13:41:42.490452Z",
     "iopub.status.idle": "2021-09-01T13:41:42.494590Z",
     "shell.execute_reply": "2021-09-01T13:41:42.494063Z"
    },
    "id": "b0926a3f",
    "outputId": "f52a4084-b5d0-417c-d934-51d3b872b127",
    "papermill": {
     "duration": 0.071466,
     "end_time": "2021-09-01T13:41:42.494718",
     "exception": false,
     "start_time": "2021-09-01T13:41:42.423252",
     "status": "completed"
    },
    "tags": []
   },
   "outputs": [
    {
     "data": {
      "application/vnd.google.colaboratory.intrinsic+json": {
       "type": "string"
      },
      "text/plain": [
       "'\\n# PARAMS TO TUNE\\nparams = {\\n    # Parameters that we are going to tune.\\n    \\'max_depth\\':6,\\n    \\'min_child_weight\\': 1,\\n    \\'eta\\':.3,\\n    \\'subsample\\': 1,\\n    \\'colsample_bytree\\': 1,\\n    # Other parameters\\n    \\'objective\\':\\'reg:squarederror\\',\\n}\\nparams[\\'eval_metric\\'] = \"mae\"\\nnum_boost_round = 999\\n'"
      ]
     },
     "execution_count": 249,
     "metadata": {},
     "output_type": "execute_result"
    }
   ],
   "source": [
    "'''\n",
    "# PARAMS TO TUNE\n",
    "params = {\n",
    "    # Parameters that we are going to tune.\n",
    "    'max_depth':6,\n",
    "    'min_child_weight': 1,\n",
    "    'eta':.3,\n",
    "    'subsample': 1,\n",
    "    'colsample_bytree': 1,\n",
    "    # Other parameters\n",
    "    'objective':'reg:squarederror',\n",
    "}\n",
    "params['eval_metric'] = \"mae\"\n",
    "num_boost_round = 999\n",
    "'''\n"
   ]
  },
  {
   "cell_type": "code",
   "execution_count": null,
   "metadata": {
    "colab": {
     "base_uri": "https://localhost:8080/",
     "height": 52
    },
    "execution": {
     "iopub.execute_input": "2021-09-01T13:41:42.624866Z",
     "iopub.status.busy": "2021-09-01T13:41:42.624194Z",
     "iopub.status.idle": "2021-09-01T13:41:42.629003Z",
     "shell.execute_reply": "2021-09-01T13:41:42.628431Z"
    },
    "id": "45bbce40",
    "outputId": "0a60ba15-517f-41da-fa48-dd41c4858152",
    "papermill": {
     "duration": 0.070437,
     "end_time": "2021-09-01T13:41:42.629119",
     "exception": false,
     "start_time": "2021-09-01T13:41:42.558682",
     "status": "completed"
    },
    "tags": []
   },
   "outputs": [
    {
     "data": {
      "application/vnd.google.colaboratory.intrinsic+json": {
       "type": "string"
      },
      "text/plain": [
       "'\\nmodel = xgb.train(\\n    params,\\n    dtrain,\\n    num_boost_round=num_boost_round,\\n    evals=[(dtest, \"Test\")],\\n    early_stopping_rounds=10\\n)\\n'"
      ]
     },
     "execution_count": 250,
     "metadata": {},
     "output_type": "execute_result"
    }
   ],
   "source": [
    "'''\n",
    "model = xgb.train(\n",
    "    params,\n",
    "    dtrain,\n",
    "    num_boost_round=num_boost_round,\n",
    "    evals=[(dtest, \"Test\")],\n",
    "    early_stopping_rounds=10\n",
    ")\n",
    "'''"
   ]
  },
  {
   "cell_type": "code",
   "execution_count": null,
   "metadata": {
    "colab": {
     "base_uri": "https://localhost:8080/",
     "height": 34
    },
    "execution": {
     "iopub.execute_input": "2021-09-01T13:41:42.756991Z",
     "iopub.status.busy": "2021-09-01T13:41:42.756362Z",
     "iopub.status.idle": "2021-09-01T13:41:42.761453Z",
     "shell.execute_reply": "2021-09-01T13:41:42.761020Z"
    },
    "id": "8e0f392c",
    "outputId": "8b98851a-af27-4ef4-d063-0f08927db67e",
    "papermill": {
     "duration": 0.07028,
     "end_time": "2021-09-01T13:41:42.761592",
     "exception": false,
     "start_time": "2021-09-01T13:41:42.691312",
     "status": "completed"
    },
    "tags": []
   },
   "outputs": [
    {
     "data": {
      "application/vnd.google.colaboratory.intrinsic+json": {
       "type": "string"
      },
      "text/plain": [
       "'print(\"Best MAE: {:.2f} with {} rounds\".format(\\n                 model.best_score,\\n                 model.best_iteration+1))\\n'"
      ]
     },
     "execution_count": 251,
     "metadata": {},
     "output_type": "execute_result"
    }
   ],
   "source": [
    "'''print(\"Best MAE: {:.2f} with {} rounds\".format(\n",
    "                 model.best_score,\n",
    "                 model.best_iteration+1))\n",
    "'''"
   ]
  },
  {
   "cell_type": "code",
   "execution_count": null,
   "metadata": {
    "colab": {
     "base_uri": "https://localhost:8080/",
     "height": 52
    },
    "execution": {
     "iopub.execute_input": "2021-09-01T13:41:42.893771Z",
     "iopub.status.busy": "2021-09-01T13:41:42.892901Z",
     "iopub.status.idle": "2021-09-01T13:41:42.896129Z",
     "shell.execute_reply": "2021-09-01T13:41:42.896507Z"
    },
    "id": "4d90930f",
    "outputId": "9cb6773c-c1ee-4419-b01b-22dd7b4041e1",
    "papermill": {
     "duration": 0.072752,
     "end_time": "2021-09-01T13:41:42.896642",
     "exception": false,
     "start_time": "2021-09-01T13:41:42.823890",
     "status": "completed"
    },
    "tags": []
   },
   "outputs": [
    {
     "data": {
      "application/vnd.google.colaboratory.intrinsic+json": {
       "type": "string"
      },
      "text/plain": [
       "\"\\ncv_results = xgb.cv(\\n    params,\\n    dtrain,\\n    num_boost_round=num_boost_round,\\n    seed=42,\\n    nfold=5,\\n    metrics={'mae'},\\n    early_stopping_rounds=10\\n)\\n\\ndisplay(cv_results)\\ncv_results['test-mae-mean'].min()\\n\""
      ]
     },
     "execution_count": 252,
     "metadata": {},
     "output_type": "execute_result"
    }
   ],
   "source": [
    "'''\n",
    "cv_results = xgb.cv(\n",
    "    params,\n",
    "    dtrain,\n",
    "    num_boost_round=num_boost_round,\n",
    "    seed=42,\n",
    "    nfold=5,\n",
    "    metrics={'mae'},\n",
    "    early_stopping_rounds=10\n",
    ")\n",
    "\n",
    "display(cv_results)\n",
    "cv_results['test-mae-mean'].min()\n",
    "'''"
   ]
  },
  {
   "cell_type": "code",
   "execution_count": null,
   "metadata": {
    "colab": {
     "base_uri": "https://localhost:8080/",
     "height": 34
    },
    "execution": {
     "iopub.execute_input": "2021-09-01T13:41:43.028086Z",
     "iopub.status.busy": "2021-09-01T13:41:43.027175Z",
     "iopub.status.idle": "2021-09-01T13:41:43.031936Z",
     "shell.execute_reply": "2021-09-01T13:41:43.032316Z"
    },
    "id": "20c73f19",
    "outputId": "d178c534-728c-40a2-f082-cef4d5a90536",
    "papermill": {
     "duration": 0.07195,
     "end_time": "2021-09-01T13:41:43.032465",
     "exception": false,
     "start_time": "2021-09-01T13:41:42.960515",
     "status": "completed"
    },
    "tags": []
   },
   "outputs": [
    {
     "data": {
      "application/vnd.google.colaboratory.intrinsic+json": {
       "type": "string"
      },
      "text/plain": [
       "'\\ngridsearch_params = [\\n    (max_depth, min_child_weight)\\n    for max_depth in range(5,12)\\n    for min_child_weight in range(3,8)\\n]\\n'"
      ]
     },
     "execution_count": 253,
     "metadata": {},
     "output_type": "execute_result"
    }
   ],
   "source": [
    "'''\n",
    "gridsearch_params = [\n",
    "    (max_depth, min_child_weight)\n",
    "    for max_depth in range(5,12)\n",
    "    for min_child_weight in range(3,8)\n",
    "]\n",
    "'''"
   ]
  },
  {
   "cell_type": "code",
   "execution_count": null,
   "metadata": {
    "colab": {
     "base_uri": "https://localhost:8080/",
     "height": 139
    },
    "execution": {
     "iopub.execute_input": "2021-09-01T13:41:43.165641Z",
     "iopub.status.busy": "2021-09-01T13:41:43.164787Z",
     "iopub.status.idle": "2021-09-01T13:41:43.170617Z",
     "shell.execute_reply": "2021-09-01T13:41:43.171129Z"
    },
    "id": "723a28e4",
    "outputId": "69415261-5ac7-424b-9304-82a132e77a0b",
    "papermill": {
     "duration": 0.074984,
     "end_time": "2021-09-01T13:41:43.171281",
     "exception": false,
     "start_time": "2021-09-01T13:41:43.096297",
     "status": "completed"
    },
    "tags": []
   },
   "outputs": [
    {
     "data": {
      "application/vnd.google.colaboratory.intrinsic+json": {
       "type": "string"
      },
      "text/plain": [
       "'\\n# MAXDEPTH AND MINCHILDWEIGHT\\n# Define initial best params and MAE\\nmin_mae = float(\"Inf\")\\nbest_params = None\\nfor max_depth, min_child_weight in gridsearch_params:\\n    print(\"CV with max_depth={}, min_child_weight={}\".format(\\n                             max_depth,\\n                             min_child_weight))\\n    # Update our parameters\\n    params[\\'max_depth\\'] = max_depth\\n    params[\\'min_child_weight\\'] = min_child_weight\\n    # Run CV\\n    cv_results = xgb.cv(\\n        params,\\n        dtrain,\\n        num_boost_round=num_boost_round,\\n        seed=42,\\n        nfold=5,\\n        metrics={\\'mae\\'},\\n        early_stopping_rounds=10\\n    )\\n    # Update best MAE\\n    mean_mae = cv_results[\\'test-mae-mean\\'].min()\\n    boost_rounds = cv_results[\\'test-mae-mean\\'].argmin()\\n    print(\"\\tMAE {} for {} rounds\".format(mean_mae, boost_rounds))\\n    if mean_mae < min_mae:\\n        min_mae = mean_mae\\n        best_params = (max_depth,min_child_weight)\\nprint(\"Best params: {}, {}, MAE: {}\".format(best_params[0], best_params[1], min_mae))\\n'"
      ]
     },
     "execution_count": 254,
     "metadata": {},
     "output_type": "execute_result"
    }
   ],
   "source": [
    "'''\n",
    "# MAXDEPTH AND MINCHILDWEIGHT\n",
    "# Define initial best params and MAE\n",
    "min_mae = float(\"Inf\")\n",
    "best_params = None\n",
    "for max_depth, min_child_weight in gridsearch_params:\n",
    "    print(\"CV with max_depth={}, min_child_weight={}\".format(\n",
    "                             max_depth,\n",
    "                             min_child_weight))\n",
    "    # Update our parameters\n",
    "    params['max_depth'] = max_depth\n",
    "    params['min_child_weight'] = min_child_weight\n",
    "    # Run CV\n",
    "    cv_results = xgb.cv(\n",
    "        params,\n",
    "        dtrain,\n",
    "        num_boost_round=num_boost_round,\n",
    "        seed=42,\n",
    "        nfold=5,\n",
    "        metrics={'mae'},\n",
    "        early_stopping_rounds=10\n",
    "    )\n",
    "    # Update best MAE\n",
    "    mean_mae = cv_results['test-mae-mean'].min()\n",
    "    boost_rounds = cv_results['test-mae-mean'].argmin()\n",
    "    print(\"\\tMAE {} for {} rounds\".format(mean_mae, boost_rounds))\n",
    "    if mean_mae < min_mae:\n",
    "        min_mae = mean_mae\n",
    "        best_params = (max_depth,min_child_weight)\n",
    "print(\"Best params: {}, {}, MAE: {}\".format(best_params[0], best_params[1], min_mae))\n",
    "'''"
   ]
  },
  {
   "cell_type": "code",
   "execution_count": null,
   "metadata": {
    "colab": {
     "base_uri": "https://localhost:8080/",
     "height": 34
    },
    "execution": {
     "iopub.execute_input": "2021-09-01T13:41:43.303698Z",
     "iopub.status.busy": "2021-09-01T13:41:43.302746Z",
     "iopub.status.idle": "2021-09-01T13:41:43.307794Z",
     "shell.execute_reply": "2021-09-01T13:41:43.308219Z"
    },
    "id": "6c0c841a",
    "outputId": "7a83ce85-476a-40eb-ac7b-9be2a5c1a856",
    "papermill": {
     "duration": 0.0725,
     "end_time": "2021-09-01T13:41:43.308357",
     "exception": false,
     "start_time": "2021-09-01T13:41:43.235857",
     "status": "completed"
    },
    "tags": []
   },
   "outputs": [
    {
     "data": {
      "application/vnd.google.colaboratory.intrinsic+json": {
       "type": "string"
      },
      "text/plain": [
       "\"\\nparams['max_depth'] = best_params[0]\\nparams['min_child_weight'] = best_params[1]\\nparams\\n\""
      ]
     },
     "execution_count": 255,
     "metadata": {},
     "output_type": "execute_result"
    }
   ],
   "source": [
    "'''\n",
    "params['max_depth'] = best_params[0]\n",
    "params['min_child_weight'] = best_params[1]\n",
    "params\n",
    "'''"
   ]
  },
  {
   "cell_type": "code",
   "execution_count": null,
   "metadata": {
    "colab": {
     "base_uri": "https://localhost:8080/",
     "height": 139
    },
    "execution": {
     "iopub.execute_input": "2021-09-01T13:41:43.440852Z",
     "iopub.status.busy": "2021-09-01T13:41:43.439969Z",
     "iopub.status.idle": "2021-09-01T13:41:43.445750Z",
     "shell.execute_reply": "2021-09-01T13:41:43.446169Z"
    },
    "id": "8184a0ce",
    "outputId": "844d6bee-0e09-4219-b9bf-54049324a472",
    "papermill": {
     "duration": 0.074046,
     "end_time": "2021-09-01T13:41:43.446307",
     "exception": false,
     "start_time": "2021-09-01T13:41:43.372261",
     "status": "completed"
    },
    "tags": []
   },
   "outputs": [
    {
     "data": {
      "application/vnd.google.colaboratory.intrinsic+json": {
       "type": "string"
      },
      "text/plain": [
       "'\\ngridsearch_params = [\\n    (subsample, colsample)\\n    for subsample in [i/10. for i in range(7,11)]\\n    for colsample in [i/10. for i in range(7,11)]\\n]\\n\\nmin_mae = float(\"Inf\")\\nbest_params = None\\n# We start by the largest values and go down to the smallest\\nfor subsample, colsample in reversed(gridsearch_params):\\n    print(\"CV with subsample={}, colsample={}\".format(\\n                             subsample,\\n                             colsample))\\n    # We update our parameters\\n    params[\\'subsample\\'] = subsample\\n    params[\\'colsample_bytree\\'] = colsample\\n    # Run CV\\n    cv_results = xgb.cv(\\n        params,\\n        dtrain,\\n        num_boost_round=num_boost_round,\\n        seed=42,\\n        nfold=5,\\n        metrics={\\'mae\\'},\\n        early_stopping_rounds=10\\n    )\\n    # Update best score\\n    mean_mae = cv_results[\\'test-mae-mean\\'].min()\\n    boost_rounds = cv_results[\\'test-mae-mean\\'].argmin()\\n    print(\"\\tMAE {} for {} rounds\".format(mean_mae, boost_rounds))\\n    if mean_mae < min_mae:\\n        min_mae = mean_mae\\n        best_params = (subsample,colsample)\\nprint(\"Best params: {}, {}, MAE: {}\".format(best_params[0], best_params[1], min_mae))\\n\\nparams[\\'subsample\\'] = best_params[0]\\nparams[\\'colsample_bytree\\'] = best_params[1]\\n'"
      ]
     },
     "execution_count": 256,
     "metadata": {},
     "output_type": "execute_result"
    }
   ],
   "source": [
    "# subsample and colsample_bytree\n",
    "'''\n",
    "gridsearch_params = [\n",
    "    (subsample, colsample)\n",
    "    for subsample in [i/10. for i in range(7,11)]\n",
    "    for colsample in [i/10. for i in range(7,11)]\n",
    "]\n",
    "\n",
    "min_mae = float(\"Inf\")\n",
    "best_params = None\n",
    "# We start by the largest values and go down to the smallest\n",
    "for subsample, colsample in reversed(gridsearch_params):\n",
    "    print(\"CV with subsample={}, colsample={}\".format(\n",
    "                             subsample,\n",
    "                             colsample))\n",
    "    # We update our parameters\n",
    "    params['subsample'] = subsample\n",
    "    params['colsample_bytree'] = colsample\n",
    "    # Run CV\n",
    "    cv_results = xgb.cv(\n",
    "        params,\n",
    "        dtrain,\n",
    "        num_boost_round=num_boost_round,\n",
    "        seed=42,\n",
    "        nfold=5,\n",
    "        metrics={'mae'},\n",
    "        early_stopping_rounds=10\n",
    "    )\n",
    "    # Update best score\n",
    "    mean_mae = cv_results['test-mae-mean'].min()\n",
    "    boost_rounds = cv_results['test-mae-mean'].argmin()\n",
    "    print(\"\\tMAE {} for {} rounds\".format(mean_mae, boost_rounds))\n",
    "    if mean_mae < min_mae:\n",
    "        min_mae = mean_mae\n",
    "        best_params = (subsample,colsample)\n",
    "print(\"Best params: {}, {}, MAE: {}\".format(best_params[0], best_params[1], min_mae))\n",
    "\n",
    "params['subsample'] = best_params[0]\n",
    "params['colsample_bytree'] = best_params[1]\n",
    "'''"
   ]
  },
  {
   "cell_type": "code",
   "execution_count": null,
   "metadata": {
    "colab": {
     "base_uri": "https://localhost:8080/",
     "height": 138
    },
    "execution": {
     "iopub.execute_input": "2021-09-01T13:41:43.578622Z",
     "iopub.status.busy": "2021-09-01T13:41:43.577742Z",
     "iopub.status.idle": "2021-09-01T13:41:43.583159Z",
     "shell.execute_reply": "2021-09-01T13:41:43.583677Z"
    },
    "id": "a6523afa",
    "outputId": "b6cca5f0-cc42-4182-b6a3-32f3cd5669f3",
    "papermill": {
     "duration": 0.072096,
     "end_time": "2021-09-01T13:41:43.583831",
     "exception": false,
     "start_time": "2021-09-01T13:41:43.511735",
     "status": "completed"
    },
    "tags": []
   },
   "outputs": [
    {
     "data": {
      "application/vnd.google.colaboratory.intrinsic+json": {
       "type": "string"
      },
      "text/plain": [
       "'\\n%time\\n# This can take some time…\\nmin_mae = float(\"Inf\")\\nbest_params = None\\nfor eta in [.3, .2, .1, .05, .01, .005]:\\n    print(\"CV with eta={}\".format(eta))\\n    # We update our parameters\\n    params[\\'eta\\'] = eta\\n    # Run and time CV\\n    %time \\n    cv_results = xgb.cv(\\n            params,\\n            dtrain,\\n            num_boost_round=num_boost_round,\\n            seed=42,\\n            nfold=5,\\n            metrics=[\\'mae\\'],\\n            early_stopping_rounds=10)\\n    # Update best score\\n    mean_mae = cv_results[\\'test-mae-mean\\'].min()\\n    boost_rounds = cv_results[\\'test-mae-mean\\'].argmin()\\n    print(\"\\tMAE {} for {} rounds\\n\".format(mean_mae, boost_rounds))\\n    if mean_mae < min_mae:\\n        min_mae = mean_mae\\n        best_params = eta\\nprint(\"Best params: {}, MAE: {}\".format(best_params, min_mae))\\n\\nparams[\\'eta\\'] = best_params\\n'"
      ]
     },
     "execution_count": 257,
     "metadata": {},
     "output_type": "execute_result"
    }
   ],
   "source": [
    "# LEARNING RATE\n",
    "'''\n",
    "%time\n",
    "# This can take some time…\n",
    "min_mae = float(\"Inf\")\n",
    "best_params = None\n",
    "for eta in [.3, .2, .1, .05, .01, .005]:\n",
    "    print(\"CV with eta={}\".format(eta))\n",
    "    # We update our parameters\n",
    "    params['eta'] = eta\n",
    "    # Run and time CV\n",
    "    %time \n",
    "    cv_results = xgb.cv(\n",
    "            params,\n",
    "            dtrain,\n",
    "            num_boost_round=num_boost_round,\n",
    "            seed=42,\n",
    "            nfold=5,\n",
    "            metrics=['mae'],\n",
    "            early_stopping_rounds=10)\n",
    "    # Update best score\n",
    "    mean_mae = cv_results['test-mae-mean'].min()\n",
    "    boost_rounds = cv_results['test-mae-mean'].argmin()\n",
    "    print(\"\\tMAE {} for {} rounds\\n\".format(mean_mae, boost_rounds))\n",
    "    if mean_mae < min_mae:\n",
    "        min_mae = mean_mae\n",
    "        best_params = eta\n",
    "print(\"Best params: {}, MAE: {}\".format(best_params, min_mae))\n",
    "\n",
    "params['eta'] = best_params\n",
    "'''"
   ]
  },
  {
   "cell_type": "code",
   "execution_count": null,
   "metadata": {
    "colab": {
     "base_uri": "https://localhost:8080/",
     "height": 52
    },
    "execution": {
     "iopub.execute_input": "2021-09-01T13:41:43.718300Z",
     "iopub.status.busy": "2021-09-01T13:41:43.717393Z",
     "iopub.status.idle": "2021-09-01T13:41:43.722450Z",
     "shell.execute_reply": "2021-09-01T13:41:43.722928Z"
    },
    "id": "acd1fd5d",
    "outputId": "c1520190-5bfb-469b-ecf0-77fba7cf4f65",
    "papermill": {
     "duration": 0.074579,
     "end_time": "2021-09-01T13:41:43.723071",
     "exception": false,
     "start_time": "2021-09-01T13:41:43.648492",
     "status": "completed"
    },
    "tags": []
   },
   "outputs": [
    {
     "data": {
      "application/vnd.google.colaboratory.intrinsic+json": {
       "type": "string"
      },
      "text/plain": [
       "'\\nmodel = xgb.train(\\n    params,\\n    dtrain,\\n    num_boost_round=num_boost_round,\\n    evals=[(dtest, \"Test\")],\\n    early_stopping_rounds=10\\n)\\n\\nprint(\"Best MAE: {:.2f} in {} rounds\".format(model.best_score, model.best_iteration+1))\\n\\nprint(f\\'Parameters : {params}\\')\\n'"
      ]
     },
     "execution_count": 326,
     "metadata": {},
     "output_type": "execute_result"
    }
   ],
   "source": [
    "'''\n",
    "model = xgb.train(\n",
    "    params,\n",
    "    dtrain,\n",
    "    num_boost_round=num_boost_round,\n",
    "    evals=[(dtest, \"Test\")],\n",
    "    early_stopping_rounds=10\n",
    ")\n",
    "\n",
    "print(\"Best MAE: {:.2f} in {} rounds\".format(model.best_score, model.best_iteration+1))\n",
    "\n",
    "print(f'Parameters : {params}')\n",
    "'''\n"
   ]
  },
  {
   "cell_type": "code",
   "execution_count": null,
   "metadata": {
    "execution": {
     "iopub.execute_input": "2021-09-01T13:41:43.858014Z",
     "iopub.status.busy": "2021-09-01T13:41:43.857067Z",
     "iopub.status.idle": "2021-09-01T13:41:43.859123Z",
     "shell.execute_reply": "2021-09-01T13:41:43.859618Z"
    },
    "id": "55c53598",
    "papermill": {
     "duration": 0.071533,
     "end_time": "2021-09-01T13:41:43.859777",
     "exception": false,
     "start_time": "2021-09-01T13:41:43.788244",
     "status": "completed"
    },
    "tags": []
   },
   "outputs": [],
   "source": [
    "#model.best_iteration + 1"
   ]
  },
  {
   "cell_type": "code",
   "execution_count": null,
   "metadata": {
    "execution": {
     "iopub.execute_input": "2021-09-01T13:41:43.996981Z",
     "iopub.status.busy": "2021-09-01T13:41:43.996048Z",
     "iopub.status.idle": "2021-09-01T13:41:43.999092Z",
     "shell.execute_reply": "2021-09-01T13:41:43.999578Z"
    },
    "id": "c0c28935",
    "papermill": {
     "duration": 0.072695,
     "end_time": "2021-09-01T13:41:43.999724",
     "exception": false,
     "start_time": "2021-09-01T13:41:43.927029",
     "status": "completed"
    },
    "tags": []
   },
   "outputs": [],
   "source": [
    "#preds = model.predict(dtest)"
   ]
  },
  {
   "cell_type": "code",
   "execution_count": null,
   "metadata": {
    "execution": {
     "iopub.execute_input": "2021-09-01T13:41:44.135213Z",
     "iopub.status.busy": "2021-09-01T13:41:44.134274Z",
     "iopub.status.idle": "2021-09-01T13:41:44.138996Z",
     "shell.execute_reply": "2021-09-01T13:41:44.139422Z",
     "shell.execute_reply.started": "2021-09-01T13:39:34.670209Z"
    },
    "id": "6b1cbf90",
    "papermill": {
     "duration": 0.073628,
     "end_time": "2021-09-01T13:41:44.139592",
     "exception": false,
     "start_time": "2021-09-01T13:41:44.065964",
     "status": "completed"
    },
    "tags": []
   },
   "outputs": [],
   "source": [
    "# DEFINE THE MODEL\n",
    "\n",
    "#xg_reg = MultiOutputRegressor(xgb.XGBRegressor(objective ='reg:squarederror', colsample_bytree = 0.3, learning_rate = 0.01,\n",
    "#               max_depth = 5, alpha = 10, n_estimators = 1000))\n",
    "xg_reg = MultiOutputRegressor(xgb.XGBRegressor(objective ='reg:squarederror', colsample_bytree = 0.5, learning_rate = 0.01,\n",
    "                max_depth = 5, alpha = 10, n_estimators = 1100, tree_method = 'hist',\n",
    "                          min_child_weight = 5, eval_metric = 'rmse'))"
   ]
  },
  {
   "cell_type": "code",
   "execution_count": null,
   "metadata": {
    "colab": {
     "base_uri": "https://localhost:8080/"
    },
    "execution": {
     "iopub.execute_input": "2021-09-01T13:41:44.273449Z",
     "iopub.status.busy": "2021-09-01T13:41:44.272548Z",
     "iopub.status.idle": "2021-09-01T13:41:55.710608Z",
     "shell.execute_reply": "2021-09-01T13:41:55.709742Z",
     "shell.execute_reply.started": "2021-09-01T13:39:35.547470Z"
    },
    "id": "1d057c55",
    "outputId": "5d8ce660-cb57-425f-8a63-73aa0a0ef4cd",
    "papermill": {
     "duration": 11.505756,
     "end_time": "2021-09-01T13:41:55.710766",
     "exception": false,
     "start_time": "2021-09-01T13:41:44.205010",
     "status": "completed"
    },
    "tags": []
   },
   "outputs": [
    {
     "data": {
      "text/plain": [
       "MultiOutputRegressor(estimator=XGBRegressor(alpha=10, base_score=0.5,\n",
       "                                            booster='gbtree',\n",
       "                                            colsample_bylevel=1,\n",
       "                                            colsample_bynode=1,\n",
       "                                            colsample_bytree=0.5,\n",
       "                                            eval_metric='rmse', gamma=0,\n",
       "                                            importance_type='gain',\n",
       "                                            learning_rate=0.01,\n",
       "                                            max_delta_step=0, max_depth=5,\n",
       "                                            min_child_weight=5, missing=None,\n",
       "                                            n_estimators=1100, n_jobs=1,\n",
       "                                            nthread=None,\n",
       "                                            objective='reg:squarederror',\n",
       "                                            random_state=0, reg_alpha=0,\n",
       "                                            reg_lambda=1, scale_pos_weight=1,\n",
       "                                            seed=None, silent=None, subsample=1,\n",
       "                                            tree_method='hist', verbosity=1),\n",
       "                     n_jobs=None)"
      ]
     },
     "execution_count": 328,
     "metadata": {},
     "output_type": "execute_result"
    }
   ],
   "source": [
    "# FITTING THE MODEL\n",
    "xg_reg.fit(X_train,y_train)#, early_stopping_rounds=5, eval_set = [(X_test, y_test)])"
   ]
  },
  {
   "cell_type": "code",
   "execution_count": null,
   "metadata": {
    "execution": {
     "iopub.execute_input": "2021-09-01T13:41:55.851295Z",
     "iopub.status.busy": "2021-09-01T13:41:55.850683Z",
     "iopub.status.idle": "2021-09-01T13:41:56.130654Z",
     "shell.execute_reply": "2021-09-01T13:41:56.131212Z",
     "shell.execute_reply.started": "2021-09-01T13:39:49.374397Z"
    },
    "id": "bb0ac160",
    "papermill": {
     "duration": 0.352979,
     "end_time": "2021-09-01T13:41:56.131424",
     "exception": false,
     "start_time": "2021-09-01T13:41:55.778445",
     "status": "completed"
    },
    "tags": []
   },
   "outputs": [],
   "source": [
    "# PREDICTIONS FOR TEST SET\n",
    "preds = xg_reg.predict(X_test)"
   ]
  },
  {
   "cell_type": "code",
   "execution_count": null,
   "metadata": {
    "colab": {
     "base_uri": "https://localhost:8080/"
    },
    "execution": {
     "iopub.execute_input": "2021-09-01T13:41:56.270447Z",
     "iopub.status.busy": "2021-09-01T13:41:56.269803Z",
     "iopub.status.idle": "2021-09-01T13:41:56.272350Z",
     "shell.execute_reply": "2021-09-01T13:41:56.272896Z",
     "shell.execute_reply.started": "2021-09-01T13:39:49.711114Z"
    },
    "id": "9e4f2b28",
    "outputId": "0139b85e-45b7-45af-fcb2-5e63cd1c9e2c",
    "papermill": {
     "duration": 0.073358,
     "end_time": "2021-09-01T13:41:56.273047",
     "exception": false,
     "start_time": "2021-09-01T13:41:56.199689",
     "status": "completed"
    },
    "tags": []
   },
   "outputs": [
    {
     "data": {
      "text/plain": [
       "array([[  5.097913 ,  95.367744 ],\n",
       "       [  3.8246875,   8.998213 ],\n",
       "       [  4.2425013,  38.408115 ],\n",
       "       ...,\n",
       "       [  4.1444554,  60.95529  ],\n",
       "       [  5.6602335, 415.64194  ],\n",
       "       [  4.0442114,  22.215275 ]], dtype=float32)"
      ]
     },
     "execution_count": 330,
     "metadata": {},
     "output_type": "execute_result"
    }
   ],
   "source": [
    "preds"
   ]
  },
  {
   "cell_type": "code",
   "execution_count": null,
   "metadata": {
    "colab": {
     "base_uri": "https://localhost:8080/",
     "height": 422
    },
    "execution": {
     "iopub.execute_input": "2021-09-01T13:41:56.409603Z",
     "iopub.status.busy": "2021-09-01T13:41:56.409028Z",
     "iopub.status.idle": "2021-09-01T13:41:56.434980Z",
     "shell.execute_reply": "2021-09-01T13:41:56.435408Z",
     "shell.execute_reply.started": "2021-09-01T13:39:49.723777Z"
    },
    "id": "bf0fa348",
    "outputId": "59e93b1a-0869-4029-b064-05dcb9714b0a",
    "papermill": {
     "duration": 0.095644,
     "end_time": "2021-09-01T13:41:56.435612",
     "exception": false,
     "start_time": "2021-09-01T13:41:56.339968",
     "status": "completed"
    },
    "tags": []
   },
   "outputs": [
    {
     "data": {
      "text/html": [
       "<div>\n",
       "<style scoped>\n",
       "    .dataframe tbody tr th:only-of-type {\n",
       "        vertical-align: middle;\n",
       "    }\n",
       "\n",
       "    .dataframe tbody tr th {\n",
       "        vertical-align: top;\n",
       "    }\n",
       "\n",
       "    .dataframe thead th {\n",
       "        text-align: right;\n",
       "    }\n",
       "</style>\n",
       "<table border=\"1\" class=\"dataframe\">\n",
       "  <thead>\n",
       "    <tr style=\"text-align: right;\">\n",
       "      <th></th>\n",
       "      <th>Y1</th>\n",
       "      <th>Y2</th>\n",
       "    </tr>\n",
       "  </thead>\n",
       "  <tbody>\n",
       "    <tr>\n",
       "      <th>34721</th>\n",
       "      <td>-0.402448</td>\n",
       "      <td>-46.052676</td>\n",
       "    </tr>\n",
       "    <tr>\n",
       "      <th>38544</th>\n",
       "      <td>0.161001</td>\n",
       "      <td>-3.518761</td>\n",
       "    </tr>\n",
       "    <tr>\n",
       "      <th>127</th>\n",
       "      <td>-0.270171</td>\n",
       "      <td>-8.271129</td>\n",
       "    </tr>\n",
       "    <tr>\n",
       "      <th>68980</th>\n",
       "      <td>0.019846</td>\n",
       "      <td>0.488968</td>\n",
       "    </tr>\n",
       "    <tr>\n",
       "      <th>26735</th>\n",
       "      <td>-1.324368</td>\n",
       "      <td>-51.353913</td>\n",
       "    </tr>\n",
       "    <tr>\n",
       "      <th>...</th>\n",
       "      <td>...</td>\n",
       "      <td>...</td>\n",
       "    </tr>\n",
       "    <tr>\n",
       "      <th>41674</th>\n",
       "      <td>-0.162192</td>\n",
       "      <td>-10.063034</td>\n",
       "    </tr>\n",
       "    <tr>\n",
       "      <th>13717</th>\n",
       "      <td>-1.805286</td>\n",
       "      <td>-129.189447</td>\n",
       "    </tr>\n",
       "    <tr>\n",
       "      <th>39556</th>\n",
       "      <td>-0.168872</td>\n",
       "      <td>-44.516936</td>\n",
       "    </tr>\n",
       "    <tr>\n",
       "      <th>42072</th>\n",
       "      <td>-1.467981</td>\n",
       "      <td>104.906008</td>\n",
       "    </tr>\n",
       "    <tr>\n",
       "      <th>47040</th>\n",
       "      <td>-0.074159</td>\n",
       "      <td>-11.256371</td>\n",
       "    </tr>\n",
       "  </tbody>\n",
       "</table>\n",
       "<p>31779 rows × 2 columns</p>\n",
       "</div>"
      ],
      "text/plain": [
       "             Y1          Y2\n",
       "34721 -0.402448  -46.052676\n",
       "38544  0.161001   -3.518761\n",
       "127   -0.270171   -8.271129\n",
       "68980  0.019846    0.488968\n",
       "26735 -1.324368  -51.353913\n",
       "...         ...         ...\n",
       "41674 -0.162192  -10.063034\n",
       "13717 -1.805286 -129.189447\n",
       "39556 -0.168872  -44.516936\n",
       "42072 -1.467981  104.906008\n",
       "47040 -0.074159  -11.256371\n",
       "\n",
       "[31779 rows x 2 columns]"
      ]
     },
     "execution_count": 331,
     "metadata": {},
     "output_type": "execute_result"
    }
   ],
   "source": [
    "y_test - preds"
   ]
  },
  {
   "cell_type": "code",
   "execution_count": null,
   "metadata": {
    "colab": {
     "base_uri": "https://localhost:8080/",
     "height": 299
    },
    "execution": {
     "iopub.execute_input": "2021-09-01T13:41:56.572378Z",
     "iopub.status.busy": "2021-09-01T13:41:56.571512Z",
     "iopub.status.idle": "2021-09-01T13:41:56.589466Z",
     "shell.execute_reply": "2021-09-01T13:41:56.588994Z",
     "shell.execute_reply.started": "2021-09-01T13:39:49.754885Z"
    },
    "id": "87578191",
    "outputId": "79fb4124-40ee-4914-cf6a-13390967880e",
    "papermill": {
     "duration": 0.087461,
     "end_time": "2021-09-01T13:41:56.589641",
     "exception": false,
     "start_time": "2021-09-01T13:41:56.502180",
     "status": "completed"
    },
    "tags": []
   },
   "outputs": [
    {
     "data": {
      "text/html": [
       "<div>\n",
       "<style scoped>\n",
       "    .dataframe tbody tr th:only-of-type {\n",
       "        vertical-align: middle;\n",
       "    }\n",
       "\n",
       "    .dataframe tbody tr th {\n",
       "        vertical-align: top;\n",
       "    }\n",
       "\n",
       "    .dataframe thead th {\n",
       "        text-align: right;\n",
       "    }\n",
       "</style>\n",
       "<table border=\"1\" class=\"dataframe\">\n",
       "  <thead>\n",
       "    <tr style=\"text-align: right;\">\n",
       "      <th></th>\n",
       "      <th>Y1</th>\n",
       "      <th>Y2</th>\n",
       "    </tr>\n",
       "  </thead>\n",
       "  <tbody>\n",
       "    <tr>\n",
       "      <th>count</th>\n",
       "      <td>31779.000000</td>\n",
       "      <td>31779.000000</td>\n",
       "    </tr>\n",
       "    <tr>\n",
       "      <th>mean</th>\n",
       "      <td>5.395905</td>\n",
       "      <td>114.698041</td>\n",
       "    </tr>\n",
       "    <tr>\n",
       "      <th>std</th>\n",
       "      <td>8.440347</td>\n",
       "      <td>185.897186</td>\n",
       "    </tr>\n",
       "    <tr>\n",
       "      <th>min</th>\n",
       "      <td>2.604128</td>\n",
       "      <td>0.000000</td>\n",
       "    </tr>\n",
       "    <tr>\n",
       "      <th>25%</th>\n",
       "      <td>3.984064</td>\n",
       "      <td>8.219178</td>\n",
       "    </tr>\n",
       "    <tr>\n",
       "      <th>50%</th>\n",
       "      <td>4.017446</td>\n",
       "      <td>27.397260</td>\n",
       "    </tr>\n",
       "    <tr>\n",
       "      <th>75%</th>\n",
       "      <td>4.327899</td>\n",
       "      <td>128.767123</td>\n",
       "    </tr>\n",
       "    <tr>\n",
       "      <th>max</th>\n",
       "      <td>398.327544</td>\n",
       "      <td>1000.000000</td>\n",
       "    </tr>\n",
       "  </tbody>\n",
       "</table>\n",
       "</div>"
      ],
      "text/plain": [
       "                 Y1            Y2\n",
       "count  31779.000000  31779.000000\n",
       "mean       5.395905    114.698041\n",
       "std        8.440347    185.897186\n",
       "min        2.604128      0.000000\n",
       "25%        3.984064      8.219178\n",
       "50%        4.017446     27.397260\n",
       "75%        4.327899    128.767123\n",
       "max      398.327544   1000.000000"
      ]
     },
     "execution_count": 332,
     "metadata": {},
     "output_type": "execute_result"
    }
   ],
   "source": [
    "y_test.describe()"
   ]
  },
  {
   "cell_type": "markdown",
   "metadata": {
    "id": "5544229e",
    "papermill": {
     "duration": 0.067153,
     "end_time": "2021-09-01T13:41:56.723226",
     "exception": false,
     "start_time": "2021-09-01T13:41:56.656073",
     "status": "completed"
    },
    "tags": []
   },
   "source": [
    "\n",
    "Mean(Y1, Y2) || Std(Y1, Y2)\n",
    "\n",
    "'LAST' : [ 3.6545959 74.96868  ]\n",
    "[ 1.614602 47.770298]\n",
    "'MEAN' : [  5.3569307 115.524765 ]\n",
    "[  5.063568 133.9396  ]"
   ]
  },
  {
   "cell_type": "code",
   "execution_count": null,
   "metadata": {
    "colab": {
     "base_uri": "https://localhost:8080/"
    },
    "execution": {
     "iopub.execute_input": "2021-09-01T13:41:56.865085Z",
     "iopub.status.busy": "2021-09-01T13:41:56.864187Z",
     "iopub.status.idle": "2021-09-01T13:41:56.870309Z",
     "shell.execute_reply": "2021-09-01T13:41:56.869832Z",
     "shell.execute_reply.started": "2021-09-01T13:39:49.781253Z"
    },
    "id": "20ec757f",
    "outputId": "4888af06-3431-4c27-babe-8b5e435da2a0",
    "papermill": {
     "duration": 0.077813,
     "end_time": "2021-09-01T13:41:56.870425",
     "exception": false,
     "start_time": "2021-09-01T13:41:56.792612",
     "status": "completed"
    },
    "tags": []
   },
   "outputs": [
    {
     "name": "stdout",
     "output_type": "stream",
     "text": [
      "[  5.406557 114.19127 ]\n",
      "[  5.8360677 137.2647   ]\n"
     ]
    }
   ],
   "source": [
    "print(preds.mean(axis = 0))\n",
    "print(preds.std(axis = 0))"
   ]
  },
  {
   "cell_type": "code",
   "execution_count": null,
   "metadata": {
    "colab": {
     "base_uri": "https://localhost:8080/"
    },
    "execution": {
     "iopub.execute_input": "2021-09-01T13:41:57.014003Z",
     "iopub.status.busy": "2021-09-01T13:41:57.013429Z",
     "iopub.status.idle": "2021-09-01T13:41:57.019330Z",
     "shell.execute_reply": "2021-09-01T13:41:57.018343Z",
     "shell.execute_reply.started": "2021-09-01T13:39:49.790759Z"
    },
    "id": "4fab826f",
    "outputId": "6eab82ed-2deb-40a6-aa9d-fece1b5f78a0",
    "papermill": {
     "duration": 0.081338,
     "end_time": "2021-09-01T13:41:57.019598",
     "exception": false,
     "start_time": "2021-09-01T13:41:56.938260",
     "status": "completed"
    },
    "tags": []
   },
   "outputs": [
    {
     "name": "stdout",
     "output_type": "stream",
     "text": [
      "RMSE: 87.380185\n"
     ]
    }
   ],
   "source": [
    "# CALCULATING THE RMSE ERROR\n",
    "rmse = np.sqrt(mean_squared_error(y_test, preds))\n",
    "print(\"RMSE: %f\" % (rmse))"
   ]
  },
  {
   "cell_type": "markdown",
   "metadata": {
    "id": "b97b5165",
    "papermill": {
     "duration": 0.067074,
     "end_time": "2021-09-01T13:41:57.158329",
     "exception": false,
     "start_time": "2021-09-01T13:41:57.091255",
     "status": "completed"
    },
    "tags": []
   },
   "source": [
    "### CREATING THE CSV SUBMISSION FILE"
   ]
  },
  {
   "cell_type": "code",
   "execution_count": null,
   "metadata": {
    "colab": {
     "base_uri": "https://localhost:8080/",
     "height": 716
    },
    "execution": {
     "iopub.execute_input": "2021-09-01T13:41:57.297706Z",
     "iopub.status.busy": "2021-09-01T13:41:57.296987Z",
     "iopub.status.idle": "2021-09-01T13:42:00.254971Z",
     "shell.execute_reply": "2021-09-01T13:42:00.255415Z",
     "shell.execute_reply.started": "2021-09-01T13:22:08.622323Z"
    },
    "id": "ab127f22",
    "outputId": "498dd8fc-7ed5-44b9-caf1-9b24930aa233",
    "papermill": {
     "duration": 3.030844,
     "end_time": "2021-09-01T13:42:00.255607",
     "exception": false,
     "start_time": "2021-09-01T13:41:57.224763",
     "status": "completed"
    },
    "tags": []
   },
   "outputs": [
    {
     "name": "stdout",
     "output_type": "stream",
     "text": [
      "Shape of the test-set = (979059, 23)\n",
      "\n"
     ]
    },
    {
     "data": {
      "text/html": [
       "<div>\n",
       "<style scoped>\n",
       "    .dataframe tbody tr th:only-of-type {\n",
       "        vertical-align: middle;\n",
       "    }\n",
       "\n",
       "    .dataframe tbody tr th {\n",
       "        vertical-align: top;\n",
       "    }\n",
       "\n",
       "    .dataframe thead th {\n",
       "        text-align: right;\n",
       "    }\n",
       "</style>\n",
       "<table border=\"1\" class=\"dataframe\">\n",
       "  <thead>\n",
       "    <tr style=\"text-align: right;\">\n",
       "      <th></th>\n",
       "      <th>UNIQUE_IDENTIFIER</th>\n",
       "      <th>SEQUENCE_NO</th>\n",
       "      <th>STATUS_CHECK</th>\n",
       "      <th>CATEGORY_1</th>\n",
       "      <th>CATEGORY_2</th>\n",
       "      <th>ACTIVE_YN</th>\n",
       "      <th>ENTRY</th>\n",
       "      <th>REVENUE</th>\n",
       "      <th>WINNINGS_1</th>\n",
       "      <th>WINNINGS_2</th>\n",
       "      <th>DISCOUNT</th>\n",
       "      <th>DEPOSIT</th>\n",
       "      <th>DEPOSIT_NUMBER</th>\n",
       "      <th>DEPOSIT_2</th>\n",
       "      <th>WITHDRAW</th>\n",
       "      <th>WITHDRAW_NUMBER</th>\n",
       "      <th>DEPOSIT_TRAILS</th>\n",
       "      <th>ENTRY_NUMBER</th>\n",
       "      <th>WINNINGS_NUMBER</th>\n",
       "      <th>PRACTICE_ENTRY</th>\n",
       "      <th>PRACTICE_WINNINGS</th>\n",
       "      <th>PRACTICE_ENTRY_NUMBER</th>\n",
       "      <th>PRACTICE_WINNINGS_NUMBER</th>\n",
       "    </tr>\n",
       "  </thead>\n",
       "  <tbody>\n",
       "    <tr>\n",
       "      <th>0</th>\n",
       "      <td>98481269471</td>\n",
       "      <td>1</td>\n",
       "      <td>0</td>\n",
       "      <td>M</td>\n",
       "      <td>D</td>\n",
       "      <td>1</td>\n",
       "      <td>5.975</td>\n",
       "      <td>0.90500</td>\n",
       "      <td>0.4100</td>\n",
       "      <td>0.0</td>\n",
       "      <td>2.0</td>\n",
       "      <td>5.5</td>\n",
       "      <td>0.3</td>\n",
       "      <td>1.0</td>\n",
       "      <td>0.0</td>\n",
       "      <td>0.0</td>\n",
       "      <td>9.8</td>\n",
       "      <td>1.4</td>\n",
       "      <td>0.2</td>\n",
       "      <td>0.000000</td>\n",
       "      <td>0.0000</td>\n",
       "      <td>0.0</td>\n",
       "      <td>0.0</td>\n",
       "    </tr>\n",
       "    <tr>\n",
       "      <th>1</th>\n",
       "      <td>98481269471</td>\n",
       "      <td>2</td>\n",
       "      <td>0</td>\n",
       "      <td>M</td>\n",
       "      <td>D</td>\n",
       "      <td>0</td>\n",
       "      <td>0.000</td>\n",
       "      <td>0.00000</td>\n",
       "      <td>0.0000</td>\n",
       "      <td>0.0</td>\n",
       "      <td>0.4</td>\n",
       "      <td>0.0</td>\n",
       "      <td>0.0</td>\n",
       "      <td>0.0</td>\n",
       "      <td>0.0</td>\n",
       "      <td>0.0</td>\n",
       "      <td>0.0</td>\n",
       "      <td>0.0</td>\n",
       "      <td>0.0</td>\n",
       "      <td>0.000000</td>\n",
       "      <td>0.0000</td>\n",
       "      <td>0.0</td>\n",
       "      <td>0.0</td>\n",
       "    </tr>\n",
       "    <tr>\n",
       "      <th>2</th>\n",
       "      <td>98481270499</td>\n",
       "      <td>1</td>\n",
       "      <td>1</td>\n",
       "      <td>M</td>\n",
       "      <td>D</td>\n",
       "      <td>1</td>\n",
       "      <td>0.050</td>\n",
       "      <td>0.00750</td>\n",
       "      <td>0.0850</td>\n",
       "      <td>0.0</td>\n",
       "      <td>0.0</td>\n",
       "      <td>1.0</td>\n",
       "      <td>0.1</td>\n",
       "      <td>1.0</td>\n",
       "      <td>0.0</td>\n",
       "      <td>0.0</td>\n",
       "      <td>0.0</td>\n",
       "      <td>0.1</td>\n",
       "      <td>0.1</td>\n",
       "      <td>0.000000</td>\n",
       "      <td>0.0000</td>\n",
       "      <td>0.0</td>\n",
       "      <td>0.0</td>\n",
       "    </tr>\n",
       "    <tr>\n",
       "      <th>3</th>\n",
       "      <td>98481270499</td>\n",
       "      <td>2</td>\n",
       "      <td>1</td>\n",
       "      <td>M</td>\n",
       "      <td>D</td>\n",
       "      <td>1</td>\n",
       "      <td>1.750</td>\n",
       "      <td>0.26250</td>\n",
       "      <td>1.0200</td>\n",
       "      <td>0.0</td>\n",
       "      <td>0.0</td>\n",
       "      <td>0.0</td>\n",
       "      <td>0.0</td>\n",
       "      <td>0.0</td>\n",
       "      <td>0.0</td>\n",
       "      <td>0.0</td>\n",
       "      <td>0.0</td>\n",
       "      <td>3.5</td>\n",
       "      <td>1.2</td>\n",
       "      <td>0.000000</td>\n",
       "      <td>0.0000</td>\n",
       "      <td>0.0</td>\n",
       "      <td>0.0</td>\n",
       "    </tr>\n",
       "    <tr>\n",
       "      <th>4</th>\n",
       "      <td>98481272694</td>\n",
       "      <td>1</td>\n",
       "      <td>0</td>\n",
       "      <td>M</td>\n",
       "      <td>C</td>\n",
       "      <td>1</td>\n",
       "      <td>0.125</td>\n",
       "      <td>0.01875</td>\n",
       "      <td>0.0425</td>\n",
       "      <td>0.0</td>\n",
       "      <td>4.0</td>\n",
       "      <td>10.0</td>\n",
       "      <td>0.1</td>\n",
       "      <td>10.0</td>\n",
       "      <td>0.0</td>\n",
       "      <td>0.0</td>\n",
       "      <td>0.0</td>\n",
       "      <td>0.5</td>\n",
       "      <td>0.1</td>\n",
       "      <td>0.000000</td>\n",
       "      <td>0.0000</td>\n",
       "      <td>0.0</td>\n",
       "      <td>0.0</td>\n",
       "    </tr>\n",
       "    <tr>\n",
       "      <th>5</th>\n",
       "      <td>98481272694</td>\n",
       "      <td>2</td>\n",
       "      <td>0</td>\n",
       "      <td>M</td>\n",
       "      <td>C</td>\n",
       "      <td>1</td>\n",
       "      <td>0.000</td>\n",
       "      <td>0.00000</td>\n",
       "      <td>0.0000</td>\n",
       "      <td>0.0</td>\n",
       "      <td>0.0</td>\n",
       "      <td>0.0</td>\n",
       "      <td>0.0</td>\n",
       "      <td>0.0</td>\n",
       "      <td>0.0</td>\n",
       "      <td>0.0</td>\n",
       "      <td>0.0</td>\n",
       "      <td>0.0</td>\n",
       "      <td>0.0</td>\n",
       "      <td>4.023800</td>\n",
       "      <td>2.4992</td>\n",
       "      <td>3.4</td>\n",
       "      <td>0.8</td>\n",
       "    </tr>\n",
       "    <tr>\n",
       "      <th>6</th>\n",
       "      <td>98481272694</td>\n",
       "      <td>3</td>\n",
       "      <td>0</td>\n",
       "      <td>M</td>\n",
       "      <td>C</td>\n",
       "      <td>1</td>\n",
       "      <td>0.000</td>\n",
       "      <td>0.00000</td>\n",
       "      <td>0.0000</td>\n",
       "      <td>0.0</td>\n",
       "      <td>0.0</td>\n",
       "      <td>0.0</td>\n",
       "      <td>0.0</td>\n",
       "      <td>0.0</td>\n",
       "      <td>0.0</td>\n",
       "      <td>0.0</td>\n",
       "      <td>0.0</td>\n",
       "      <td>0.0</td>\n",
       "      <td>0.0</td>\n",
       "      <td>8.824340</td>\n",
       "      <td>7.8232</td>\n",
       "      <td>6.3</td>\n",
       "      <td>2.1</td>\n",
       "    </tr>\n",
       "    <tr>\n",
       "      <th>7</th>\n",
       "      <td>98481272694</td>\n",
       "      <td>4</td>\n",
       "      <td>0</td>\n",
       "      <td>M</td>\n",
       "      <td>C</td>\n",
       "      <td>1</td>\n",
       "      <td>0.000</td>\n",
       "      <td>0.00000</td>\n",
       "      <td>0.0000</td>\n",
       "      <td>0.0</td>\n",
       "      <td>0.0</td>\n",
       "      <td>0.0</td>\n",
       "      <td>0.0</td>\n",
       "      <td>0.0</td>\n",
       "      <td>0.0</td>\n",
       "      <td>0.0</td>\n",
       "      <td>0.0</td>\n",
       "      <td>0.0</td>\n",
       "      <td>0.0</td>\n",
       "      <td>4.809267</td>\n",
       "      <td>1.7952</td>\n",
       "      <td>3.1</td>\n",
       "      <td>0.4</td>\n",
       "    </tr>\n",
       "    <tr>\n",
       "      <th>8</th>\n",
       "      <td>98481272694</td>\n",
       "      <td>5</td>\n",
       "      <td>0</td>\n",
       "      <td>M</td>\n",
       "      <td>C</td>\n",
       "      <td>1</td>\n",
       "      <td>0.000</td>\n",
       "      <td>0.00000</td>\n",
       "      <td>0.0000</td>\n",
       "      <td>0.0</td>\n",
       "      <td>0.0</td>\n",
       "      <td>0.0</td>\n",
       "      <td>0.0</td>\n",
       "      <td>0.0</td>\n",
       "      <td>0.0</td>\n",
       "      <td>0.0</td>\n",
       "      <td>0.0</td>\n",
       "      <td>0.0</td>\n",
       "      <td>0.0</td>\n",
       "      <td>0.250000</td>\n",
       "      <td>0.0000</td>\n",
       "      <td>0.1</td>\n",
       "      <td>0.0</td>\n",
       "    </tr>\n",
       "    <tr>\n",
       "      <th>9</th>\n",
       "      <td>98481272694</td>\n",
       "      <td>6</td>\n",
       "      <td>0</td>\n",
       "      <td>M</td>\n",
       "      <td>C</td>\n",
       "      <td>1</td>\n",
       "      <td>0.000</td>\n",
       "      <td>0.00000</td>\n",
       "      <td>0.0000</td>\n",
       "      <td>0.0</td>\n",
       "      <td>0.0</td>\n",
       "      <td>0.0</td>\n",
       "      <td>0.0</td>\n",
       "      <td>0.0</td>\n",
       "      <td>0.0</td>\n",
       "      <td>0.0</td>\n",
       "      <td>0.0</td>\n",
       "      <td>0.0</td>\n",
       "      <td>0.0</td>\n",
       "      <td>4.136980</td>\n",
       "      <td>2.8160</td>\n",
       "      <td>2.7</td>\n",
       "      <td>0.9</td>\n",
       "    </tr>\n",
       "  </tbody>\n",
       "</table>\n",
       "</div>"
      ],
      "text/plain": [
       "   UNIQUE_IDENTIFIER  ...  PRACTICE_WINNINGS_NUMBER\n",
       "0        98481269471  ...                       0.0\n",
       "1        98481269471  ...                       0.0\n",
       "2        98481270499  ...                       0.0\n",
       "3        98481270499  ...                       0.0\n",
       "4        98481272694  ...                       0.0\n",
       "5        98481272694  ...                       0.8\n",
       "6        98481272694  ...                       2.1\n",
       "7        98481272694  ...                       0.4\n",
       "8        98481272694  ...                       0.0\n",
       "9        98481272694  ...                       0.9\n",
       "\n",
       "[10 rows x 23 columns]"
      ]
     },
     "metadata": {},
     "output_type": "display_data"
    },
    {
     "name": "stdout",
     "output_type": "stream",
     "text": [
      "\n"
     ]
    },
    {
     "data": {
      "text/html": [
       "<div>\n",
       "<style scoped>\n",
       "    .dataframe tbody tr th:only-of-type {\n",
       "        vertical-align: middle;\n",
       "    }\n",
       "\n",
       "    .dataframe tbody tr th {\n",
       "        vertical-align: top;\n",
       "    }\n",
       "\n",
       "    .dataframe thead th {\n",
       "        text-align: right;\n",
       "    }\n",
       "</style>\n",
       "<table border=\"1\" class=\"dataframe\">\n",
       "  <thead>\n",
       "    <tr style=\"text-align: right;\">\n",
       "      <th></th>\n",
       "      <th>UNIQUE_IDENTIFIER</th>\n",
       "      <th>SEQUENCE_NO</th>\n",
       "      <th>STATUS_CHECK</th>\n",
       "      <th>ACTIVE_YN</th>\n",
       "      <th>ENTRY</th>\n",
       "      <th>REVENUE</th>\n",
       "      <th>WINNINGS_1</th>\n",
       "      <th>WINNINGS_2</th>\n",
       "      <th>DISCOUNT</th>\n",
       "      <th>DEPOSIT</th>\n",
       "      <th>DEPOSIT_NUMBER</th>\n",
       "      <th>DEPOSIT_2</th>\n",
       "      <th>WITHDRAW</th>\n",
       "      <th>WITHDRAW_NUMBER</th>\n",
       "      <th>DEPOSIT_TRAILS</th>\n",
       "      <th>ENTRY_NUMBER</th>\n",
       "      <th>WINNINGS_NUMBER</th>\n",
       "      <th>PRACTICE_ENTRY</th>\n",
       "      <th>PRACTICE_WINNINGS</th>\n",
       "      <th>PRACTICE_ENTRY_NUMBER</th>\n",
       "      <th>PRACTICE_WINNINGS_NUMBER</th>\n",
       "    </tr>\n",
       "  </thead>\n",
       "  <tbody>\n",
       "    <tr>\n",
       "      <th>count</th>\n",
       "      <td>9.790590e+05</td>\n",
       "      <td>979059.000000</td>\n",
       "      <td>979059.000000</td>\n",
       "      <td>979059.000000</td>\n",
       "      <td>979059.000000</td>\n",
       "      <td>979059.000000</td>\n",
       "      <td>979059.000000</td>\n",
       "      <td>979059.000000</td>\n",
       "      <td>979059.000000</td>\n",
       "      <td>979059.000000</td>\n",
       "      <td>979059.000000</td>\n",
       "      <td>979059.000000</td>\n",
       "      <td>979059.000000</td>\n",
       "      <td>979059.000000</td>\n",
       "      <td>979059.000000</td>\n",
       "      <td>979059.000000</td>\n",
       "      <td>979059.000000</td>\n",
       "      <td>979059.000000</td>\n",
       "      <td>979059.000000</td>\n",
       "      <td>979059.000000</td>\n",
       "      <td>979059.000000</td>\n",
       "    </tr>\n",
       "    <tr>\n",
       "      <th>mean</th>\n",
       "      <td>9.853018e+10</td>\n",
       "      <td>11.440345</td>\n",
       "      <td>0.394211</td>\n",
       "      <td>0.969687</td>\n",
       "      <td>3.172277</td>\n",
       "      <td>0.366817</td>\n",
       "      <td>2.468117</td>\n",
       "      <td>0.082370</td>\n",
       "      <td>0.411340</td>\n",
       "      <td>0.540256</td>\n",
       "      <td>0.029050</td>\n",
       "      <td>0.069796</td>\n",
       "      <td>0.061635</td>\n",
       "      <td>0.002285</td>\n",
       "      <td>0.127763</td>\n",
       "      <td>1.851157</td>\n",
       "      <td>0.617564</td>\n",
       "      <td>0.209117</td>\n",
       "      <td>0.164661</td>\n",
       "      <td>0.033872</td>\n",
       "      <td>0.015349</td>\n",
       "    </tr>\n",
       "    <tr>\n",
       "      <th>std</th>\n",
       "      <td>8.934826e+06</td>\n",
       "      <td>7.825283</td>\n",
       "      <td>0.488681</td>\n",
       "      <td>0.171447</td>\n",
       "      <td>21.375312</td>\n",
       "      <td>2.150099</td>\n",
       "      <td>18.271798</td>\n",
       "      <td>1.316261</td>\n",
       "      <td>2.158291</td>\n",
       "      <td>3.442908</td>\n",
       "      <td>0.067829</td>\n",
       "      <td>0.659688</td>\n",
       "      <td>1.085939</td>\n",
       "      <td>0.017874</td>\n",
       "      <td>1.057838</td>\n",
       "      <td>3.692403</td>\n",
       "      <td>1.402774</td>\n",
       "      <td>3.838995</td>\n",
       "      <td>3.615380</td>\n",
       "      <td>0.371677</td>\n",
       "      <td>0.167900</td>\n",
       "    </tr>\n",
       "    <tr>\n",
       "      <th>min</th>\n",
       "      <td>9.848127e+10</td>\n",
       "      <td>1.000000</td>\n",
       "      <td>0.000000</td>\n",
       "      <td>0.000000</td>\n",
       "      <td>0.000000</td>\n",
       "      <td>0.000000</td>\n",
       "      <td>0.000000</td>\n",
       "      <td>0.000000</td>\n",
       "      <td>0.000000</td>\n",
       "      <td>0.000000</td>\n",
       "      <td>0.000000</td>\n",
       "      <td>0.000000</td>\n",
       "      <td>0.000000</td>\n",
       "      <td>0.000000</td>\n",
       "      <td>0.000000</td>\n",
       "      <td>0.000000</td>\n",
       "      <td>0.000000</td>\n",
       "      <td>0.000000</td>\n",
       "      <td>0.000000</td>\n",
       "      <td>0.000000</td>\n",
       "      <td>0.000000</td>\n",
       "    </tr>\n",
       "    <tr>\n",
       "      <th>25%</th>\n",
       "      <td>9.852772e+10</td>\n",
       "      <td>5.000000</td>\n",
       "      <td>0.000000</td>\n",
       "      <td>1.000000</td>\n",
       "      <td>0.000000</td>\n",
       "      <td>0.000000</td>\n",
       "      <td>0.000000</td>\n",
       "      <td>0.000000</td>\n",
       "      <td>0.000000</td>\n",
       "      <td>0.000000</td>\n",
       "      <td>0.000000</td>\n",
       "      <td>0.000000</td>\n",
       "      <td>0.000000</td>\n",
       "      <td>0.000000</td>\n",
       "      <td>0.000000</td>\n",
       "      <td>0.100000</td>\n",
       "      <td>0.000000</td>\n",
       "      <td>0.000000</td>\n",
       "      <td>0.000000</td>\n",
       "      <td>0.000000</td>\n",
       "      <td>0.000000</td>\n",
       "    </tr>\n",
       "    <tr>\n",
       "      <th>50%</th>\n",
       "      <td>9.852932e+10</td>\n",
       "      <td>10.000000</td>\n",
       "      <td>0.000000</td>\n",
       "      <td>1.000000</td>\n",
       "      <td>0.275000</td>\n",
       "      <td>0.037500</td>\n",
       "      <td>0.113300</td>\n",
       "      <td>0.000000</td>\n",
       "      <td>0.000000</td>\n",
       "      <td>0.000000</td>\n",
       "      <td>0.000000</td>\n",
       "      <td>0.000000</td>\n",
       "      <td>0.000000</td>\n",
       "      <td>0.000000</td>\n",
       "      <td>0.000000</td>\n",
       "      <td>0.600000</td>\n",
       "      <td>0.100000</td>\n",
       "      <td>0.000000</td>\n",
       "      <td>0.000000</td>\n",
       "      <td>0.000000</td>\n",
       "      <td>0.000000</td>\n",
       "    </tr>\n",
       "    <tr>\n",
       "      <th>75%</th>\n",
       "      <td>9.853655e+10</td>\n",
       "      <td>17.000000</td>\n",
       "      <td>1.000000</td>\n",
       "      <td>1.000000</td>\n",
       "      <td>1.300000</td>\n",
       "      <td>0.177347</td>\n",
       "      <td>0.850550</td>\n",
       "      <td>0.000000</td>\n",
       "      <td>0.180000</td>\n",
       "      <td>0.000000</td>\n",
       "      <td>0.000000</td>\n",
       "      <td>0.000000</td>\n",
       "      <td>0.000000</td>\n",
       "      <td>0.000000</td>\n",
       "      <td>0.000000</td>\n",
       "      <td>1.900000</td>\n",
       "      <td>0.600000</td>\n",
       "      <td>0.000000</td>\n",
       "      <td>0.000000</td>\n",
       "      <td>0.000000</td>\n",
       "      <td>0.000000</td>\n",
       "    </tr>\n",
       "    <tr>\n",
       "      <th>max</th>\n",
       "      <td>9.853721e+10</td>\n",
       "      <td>30.000000</td>\n",
       "      <td>1.000000</td>\n",
       "      <td>1.000000</td>\n",
       "      <td>2386.920000</td>\n",
       "      <td>245.500000</td>\n",
       "      <td>2201.752600</td>\n",
       "      <td>500.000000</td>\n",
       "      <td>210.000000</td>\n",
       "      <td>210.000000</td>\n",
       "      <td>2.400000</td>\n",
       "      <td>50.000000</td>\n",
       "      <td>160.000000</td>\n",
       "      <td>1.000000</td>\n",
       "      <td>250.000000</td>\n",
       "      <td>93.300000</td>\n",
       "      <td>49.500000</td>\n",
       "      <td>736.830000</td>\n",
       "      <td>665.866670</td>\n",
       "      <td>31.100000</td>\n",
       "      <td>12.500000</td>\n",
       "    </tr>\n",
       "  </tbody>\n",
       "</table>\n",
       "</div>"
      ],
      "text/plain": [
       "       UNIQUE_IDENTIFIER  ...  PRACTICE_WINNINGS_NUMBER\n",
       "count       9.790590e+05  ...             979059.000000\n",
       "mean        9.853018e+10  ...                  0.015349\n",
       "std         8.934826e+06  ...                  0.167900\n",
       "min         9.848127e+10  ...                  0.000000\n",
       "25%         9.852772e+10  ...                  0.000000\n",
       "50%         9.852932e+10  ...                  0.000000\n",
       "75%         9.853655e+10  ...                  0.000000\n",
       "max         9.853721e+10  ...                 12.500000\n",
       "\n",
       "[8 rows x 21 columns]"
      ]
     },
     "metadata": {},
     "output_type": "display_data"
    }
   ],
   "source": [
    "# LOADING THE TEST FILE\n",
    "df_test = pd.read_csv('/content/drive/MyDrive/test.csv')\n",
    "print(f'Shape of the test-set = {df_test.shape}')\n",
    "print()\n",
    "display(df_test.head(10))\n",
    "print()\n",
    "display(df_test.describe())"
   ]
  },
  {
   "cell_type": "code",
   "execution_count": null,
   "metadata": {
    "colab": {
     "base_uri": "https://localhost:8080/"
    },
    "execution": {
     "iopub.execute_input": "2021-09-01T13:42:00.396276Z",
     "iopub.status.busy": "2021-09-01T13:42:00.395711Z",
     "iopub.status.idle": "2021-09-01T13:42:00.633701Z",
     "shell.execute_reply": "2021-09-01T13:42:00.634166Z",
     "shell.execute_reply.started": "2021-09-01T13:22:35.338221Z"
    },
    "id": "cc5d04ae",
    "outputId": "df22f289-ee57-4654-ef08-19c68ac84a24",
    "papermill": {
     "duration": 0.309915,
     "end_time": "2021-09-01T13:42:00.634325",
     "exception": false,
     "start_time": "2021-09-01T13:42:00.324410",
     "status": "completed"
    },
    "tags": []
   },
   "outputs": [
    {
     "name": "stdout",
     "output_type": "stream",
     "text": [
      "<class 'pandas.core.frame.DataFrame'>\n",
      "RangeIndex: 979059 entries, 0 to 979058\n",
      "Data columns (total 23 columns):\n",
      " #   Column                    Non-Null Count   Dtype  \n",
      "---  ------                    --------------   -----  \n",
      " 0   UNIQUE_IDENTIFIER         979059 non-null  int64  \n",
      " 1   SEQUENCE_NO               979059 non-null  int64  \n",
      " 2   STATUS_CHECK              979059 non-null  int64  \n",
      " 3   CATEGORY_1                979059 non-null  object \n",
      " 4   CATEGORY_2                979059 non-null  object \n",
      " 5   ACTIVE_YN                 979059 non-null  int64  \n",
      " 6   ENTRY                     979059 non-null  float64\n",
      " 7   REVENUE                   979059 non-null  float64\n",
      " 8   WINNINGS_1                979059 non-null  float64\n",
      " 9   WINNINGS_2                979059 non-null  float64\n",
      " 10  DISCOUNT                  979059 non-null  float64\n",
      " 11  DEPOSIT                   979059 non-null  float64\n",
      " 12  DEPOSIT_NUMBER            979059 non-null  float64\n",
      " 13  DEPOSIT_2                 979059 non-null  float64\n",
      " 14  WITHDRAW                  979059 non-null  float64\n",
      " 15  WITHDRAW_NUMBER           979059 non-null  float64\n",
      " 16  DEPOSIT_TRAILS            979059 non-null  float64\n",
      " 17  ENTRY_NUMBER              979059 non-null  float64\n",
      " 18  WINNINGS_NUMBER           979059 non-null  float64\n",
      " 19  PRACTICE_ENTRY            979059 non-null  float64\n",
      " 20  PRACTICE_WINNINGS         979059 non-null  float64\n",
      " 21  PRACTICE_ENTRY_NUMBER     979059 non-null  float64\n",
      " 22  PRACTICE_WINNINGS_NUMBER  979059 non-null  float64\n",
      "dtypes: float64(17), int64(4), object(2)\n",
      "memory usage: 171.8+ MB\n"
     ]
    }
   ],
   "source": [
    "df_test.info()"
   ]
  },
  {
   "cell_type": "code",
   "execution_count": null,
   "metadata": {
    "execution": {
     "iopub.execute_input": "2021-09-01T13:42:00.803019Z",
     "iopub.status.busy": "2021-09-01T13:42:00.802066Z",
     "iopub.status.idle": "2021-09-01T13:42:00.827789Z",
     "shell.execute_reply": "2021-09-01T13:42:00.827204Z",
     "shell.execute_reply.started": "2021-09-01T13:22:35.795028Z"
    },
    "id": "d1a99848",
    "papermill": {
     "duration": 0.12127,
     "end_time": "2021-09-01T13:42:00.827939",
     "exception": false,
     "start_time": "2021-09-01T13:42:00.706669",
     "status": "completed"
    },
    "tags": []
   },
   "outputs": [],
   "source": [
    "# SELECTING THE OBJECT COLUMNS\n",
    "cat_columns_test = df_test.select_dtypes(['object']).columns"
   ]
  },
  {
   "cell_type": "code",
   "execution_count": null,
   "metadata": {
    "colab": {
     "base_uri": "https://localhost:8080/"
    },
    "execution": {
     "iopub.execute_input": "2021-09-01T13:42:00.984811Z",
     "iopub.status.busy": "2021-09-01T13:42:00.984036Z",
     "iopub.status.idle": "2021-09-01T13:42:00.988176Z",
     "shell.execute_reply": "2021-09-01T13:42:00.987648Z",
     "shell.execute_reply.started": "2021-09-01T13:22:36.475741Z"
    },
    "id": "b49c7e79",
    "outputId": "46fb6cfa-6ff7-4f7c-c15a-2e406a71108f",
    "papermill": {
     "duration": 0.081732,
     "end_time": "2021-09-01T13:42:00.988317",
     "exception": false,
     "start_time": "2021-09-01T13:42:00.906585",
     "status": "completed"
    },
    "tags": []
   },
   "outputs": [
    {
     "data": {
      "text/plain": [
       "Index(['CATEGORY_1', 'CATEGORY_2'], dtype='object')"
      ]
     },
     "execution_count": 338,
     "metadata": {},
     "output_type": "execute_result"
    }
   ],
   "source": [
    "cat_columns_test"
   ]
  },
  {
   "cell_type": "code",
   "execution_count": null,
   "metadata": {
    "execution": {
     "iopub.execute_input": "2021-09-01T13:42:01.143430Z",
     "iopub.status.busy": "2021-09-01T13:42:01.142473Z",
     "iopub.status.idle": "2021-09-01T13:42:01.288361Z",
     "shell.execute_reply": "2021-09-01T13:42:01.288913Z",
     "shell.execute_reply.started": "2021-09-01T13:22:37.137509Z"
    },
    "id": "881e395d",
    "papermill": {
     "duration": 0.221385,
     "end_time": "2021-09-01T13:42:01.289075",
     "exception": false,
     "start_time": "2021-09-01T13:42:01.067690",
     "status": "completed"
    },
    "tags": []
   },
   "outputs": [],
   "source": [
    "# CONVERT OBJECT TO CATEGORY\n",
    "for column in ['CATEGORY_1', 'CATEGORY_2']:\n",
    "    df_test[column] = df_test[column].astype('category')"
   ]
  },
  {
   "cell_type": "code",
   "execution_count": null,
   "metadata": {
    "execution": {
     "iopub.execute_input": "2021-09-01T13:42:01.441753Z",
     "iopub.status.busy": "2021-09-01T13:42:01.440792Z",
     "iopub.status.idle": "2021-09-01T13:42:01.448829Z",
     "shell.execute_reply": "2021-09-01T13:42:01.449451Z",
     "shell.execute_reply.started": "2021-09-01T13:22:37.680788Z"
    },
    "id": "3fb2e3d8",
    "papermill": {
     "duration": 0.08669,
     "end_time": "2021-09-01T13:42:01.449704",
     "exception": false,
     "start_time": "2021-09-01T13:42:01.363014",
     "status": "completed"
    },
    "tags": []
   },
   "outputs": [],
   "source": [
    "# CONVERT CATEGORY TO INT8\n",
    "df_test[cat_columns] = df_test[cat_columns].apply(lambda x: x.cat.codes)"
   ]
  },
  {
   "cell_type": "code",
   "execution_count": null,
   "metadata": {
    "execution": {
     "iopub.execute_input": "2021-09-01T13:42:01.602512Z",
     "iopub.status.busy": "2021-09-01T13:42:01.601363Z",
     "iopub.status.idle": "2021-09-01T13:42:01.618616Z",
     "shell.execute_reply": "2021-09-01T13:42:01.616804Z",
     "shell.execute_reply.started": "2021-09-01T13:22:38.536363Z"
    },
    "id": "048ba920",
    "papermill": {
     "duration": 0.093026,
     "end_time": "2021-09-01T13:42:01.618769",
     "exception": false,
     "start_time": "2021-09-01T13:42:01.525743",
     "status": "completed"
    },
    "tags": []
   },
   "outputs": [],
   "source": [
    "# INT8 TO INT 64\n",
    "for column in ['CATEGORY_1', 'CATEGORY_2']:\n",
    "    df_test[column] = df_test[column].astype('int64')"
   ]
  },
  {
   "cell_type": "code",
   "execution_count": null,
   "metadata": {
    "colab": {
     "base_uri": "https://localhost:8080/"
    },
    "execution": {
     "iopub.execute_input": "2021-09-01T13:42:01.771502Z",
     "iopub.status.busy": "2021-09-01T13:42:01.770153Z",
     "iopub.status.idle": "2021-09-01T13:42:01.817438Z",
     "shell.execute_reply": "2021-09-01T13:42:01.816992Z",
     "shell.execute_reply.started": "2021-09-01T13:22:39.29562Z"
    },
    "id": "f68f4a74",
    "outputId": "618ffbf7-4bca-49ec-c06b-f8db63af2181",
    "papermill": {
     "duration": 0.123895,
     "end_time": "2021-09-01T13:42:01.817624",
     "exception": false,
     "start_time": "2021-09-01T13:42:01.693729",
     "status": "completed"
    },
    "tags": []
   },
   "outputs": [
    {
     "name": "stdout",
     "output_type": "stream",
     "text": [
      "CATEGORY 1:\n",
      "(array([ 0,  1,  2,  3,  4,  5,  6,  7,  8,  9, 10, 11]), array([ 69006, 399083,  60921,  38194, 117953,   1908,  12300,    720,\n",
      "        10046, 232404,   1068,  35456]))\n",
      "\n",
      "CATEGORY 2:\n",
      "(array([0, 1, 2, 3, 4, 5, 6, 7, 8]), array([184475,  80352,  30172, 374768,   6643,  19865,   4929,  16978,\n",
      "       260877]))\n"
     ]
    }
   ],
   "source": [
    "# RESULTS AFTER CONVERTSION TO INT64\n",
    "print('CATEGORY 1:')\n",
    "print(np.unique(np.array(df_test['CATEGORY_1']), return_counts = True))\n",
    "print()\n",
    "print('CATEGORY 2:')\n",
    "print(np.unique(np.array(df_test['CATEGORY_2']), return_counts = True))"
   ]
  },
  {
   "cell_type": "code",
   "execution_count": null,
   "metadata": {
    "colab": {
     "base_uri": "https://localhost:8080/"
    },
    "execution": {
     "iopub.execute_input": "2021-09-01T13:42:01.966823Z",
     "iopub.status.busy": "2021-09-01T13:42:01.966128Z",
     "iopub.status.idle": "2021-09-01T13:42:01.999024Z",
     "shell.execute_reply": "2021-09-01T13:42:01.999487Z",
     "shell.execute_reply.started": "2021-09-01T13:22:42.510676Z"
    },
    "id": "0f8f48fd",
    "outputId": "143580d7-4fb5-4e50-dad5-8ef1b620c140",
    "papermill": {
     "duration": 0.109778,
     "end_time": "2021-09-01T13:42:01.999697",
     "exception": false,
     "start_time": "2021-09-01T13:42:01.889919",
     "status": "completed"
    },
    "tags": []
   },
   "outputs": [
    {
     "name": "stdout",
     "output_type": "stream",
     "text": [
      "(65242,)\n"
     ]
    }
   ],
   "source": [
    "# CONVERSION TO DATAMATRIX FOR FASTER IMPLEMENTATION\n",
    "#data_dmatrix = xgb.DMatrix(data=X, label=y, enable_categorical=True)\n",
    "print(np.unique(np.array(df_test['UNIQUE_IDENTIFIER']), return_counts = True)[0].shape)"
   ]
  },
  {
   "cell_type": "code",
   "execution_count": null,
   "metadata": {
    "colab": {
     "base_uri": "https://localhost:8080/"
    },
    "execution": {
     "iopub.execute_input": "2021-09-01T13:42:02.150808Z",
     "iopub.status.busy": "2021-09-01T13:42:02.149515Z",
     "iopub.status.idle": "2021-09-01T13:42:02.365946Z",
     "shell.execute_reply": "2021-09-01T13:42:02.365391Z",
     "shell.execute_reply.started": "2021-09-01T13:22:43.889028Z"
    },
    "id": "8186e83f",
    "outputId": "59ca6398-87fc-4209-fb81-e4895542d0e1",
    "papermill": {
     "duration": 0.293997,
     "end_time": "2021-09-01T13:42:02.366108",
     "exception": false,
     "start_time": "2021-09-01T13:42:02.072111",
     "status": "completed"
    },
    "tags": []
   },
   "outputs": [
    {
     "data": {
      "text/plain": [
       "(65242, 23)"
      ]
     },
     "execution_count": 344,
     "metadata": {},
     "output_type": "execute_result"
    }
   ],
   "source": [
    "df_test = df_test.groupby(['UNIQUE_IDENTIFIER'],as_index = False).agg(aggregate_by)\n",
    "df_test.shape"
   ]
  },
  {
   "cell_type": "code",
   "execution_count": null,
   "metadata": {
    "colab": {
     "base_uri": "https://localhost:8080/"
    },
    "execution": {
     "iopub.execute_input": "2021-09-01T13:42:02.514784Z",
     "iopub.status.busy": "2021-09-01T13:42:02.514211Z",
     "iopub.status.idle": "2021-09-01T13:42:02.516999Z",
     "shell.execute_reply": "2021-09-01T13:42:02.517558Z",
     "shell.execute_reply.started": "2021-09-01T13:21:26.546286Z"
    },
    "id": "a46b7f9f",
    "outputId": "6f7cd240-6ace-47e3-b35f-8942eda60e5c",
    "papermill": {
     "duration": 0.078789,
     "end_time": "2021-09-01T13:42:02.517724",
     "exception": false,
     "start_time": "2021-09-01T13:42:02.438935",
     "status": "completed"
    },
    "tags": []
   },
   "outputs": [
    {
     "data": {
      "text/plain": [
       "(65242, 23)"
      ]
     },
     "execution_count": 345,
     "metadata": {},
     "output_type": "execute_result"
    }
   ],
   "source": [
    "#df_test.drop(col_to_drop, axis = 1)\n",
    "df_test.shape"
   ]
  },
  {
   "cell_type": "code",
   "execution_count": null,
   "metadata": {
    "execution": {
     "iopub.execute_input": "2021-09-01T13:42:02.663876Z",
     "iopub.status.busy": "2021-09-01T13:42:02.663278Z",
     "iopub.status.idle": "2021-09-01T13:42:02.666213Z",
     "shell.execute_reply": "2021-09-01T13:42:02.666850Z",
     "shell.execute_reply.started": "2021-09-01T13:21:20.172733Z"
    },
    "id": "6c78515b",
    "papermill": {
     "duration": 0.078853,
     "end_time": "2021-09-01T13:42:02.667011",
     "exception": false,
     "start_time": "2021-09-01T13:42:02.588158",
     "status": "completed"
    },
    "tags": []
   },
   "outputs": [],
   "source": [
    "#col_to_take = ['SEQUENCE_NO', 'STATUS_CHECK', 'ENTRY', 'REVENUE', 'WINNINGS_1', 'DEPOSIT']\n",
    "#df_test = df_test.loc[:,col_to_take]"
   ]
  },
  {
   "cell_type": "code",
   "execution_count": null,
   "metadata": {
    "execution": {
     "iopub.execute_input": "2021-09-01T13:42:02.816272Z",
     "iopub.status.busy": "2021-09-01T13:42:02.814244Z",
     "iopub.status.idle": "2021-09-01T13:42:03.724768Z",
     "shell.execute_reply": "2021-09-01T13:42:03.725360Z",
     "shell.execute_reply.started": "2021-09-01T13:21:29.530154Z"
    },
    "id": "135ec296",
    "papermill": {
     "duration": 0.986013,
     "end_time": "2021-09-01T13:42:03.725571",
     "exception": false,
     "start_time": "2021-09-01T13:42:02.739558",
     "status": "completed"
    },
    "tags": []
   },
   "outputs": [],
   "source": [
    "# PREDICTIONS FOR TEST SET\n",
    "pred_test = xg_reg.predict(df_test)"
   ]
  },
  {
   "cell_type": "code",
   "execution_count": null,
   "metadata": {
    "colab": {
     "base_uri": "https://localhost:8080/"
    },
    "execution": {
     "iopub.execute_input": "2021-09-01T13:42:03.877625Z",
     "iopub.status.busy": "2021-09-01T13:42:03.877051Z",
     "iopub.status.idle": "2021-09-01T13:42:03.880570Z",
     "shell.execute_reply": "2021-09-01T13:42:03.880123Z",
     "shell.execute_reply.started": "2021-09-01T13:21:32.151976Z"
    },
    "id": "a47a7ad6",
    "outputId": "23f58c37-d85c-4e6e-f1a0-e28a569f0ca0",
    "papermill": {
     "duration": 0.081603,
     "end_time": "2021-09-01T13:42:03.880694",
     "exception": false,
     "start_time": "2021-09-01T13:42:03.799091",
     "status": "completed"
    },
    "tags": []
   },
   "outputs": [
    {
     "data": {
      "text/plain": [
       "array([3.9512813, 7.483494 ], dtype=float32)"
      ]
     },
     "execution_count": 348,
     "metadata": {},
     "output_type": "execute_result"
    }
   ],
   "source": [
    "pred_test[0]"
   ]
  },
  {
   "cell_type": "code",
   "execution_count": null,
   "metadata": {
    "colab": {
     "base_uri": "https://localhost:8080/",
     "height": 397
    },
    "execution": {
     "iopub.execute_input": "2021-09-01T13:42:04.030400Z",
     "iopub.status.busy": "2021-09-01T13:42:04.029578Z",
     "iopub.status.idle": "2021-09-01T13:42:04.105891Z",
     "shell.execute_reply": "2021-09-01T13:42:04.105005Z"
    },
    "id": "dc6ffcc2",
    "outputId": "c22ea4a1-3c82-444e-b210-89354421783a",
    "papermill": {
     "duration": 0.154399,
     "end_time": "2021-09-01T13:42:04.106098",
     "exception": false,
     "start_time": "2021-09-01T13:42:03.951699",
     "status": "completed"
    },
    "tags": []
   },
   "outputs": [
    {
     "name": "stdout",
     "output_type": "stream",
     "text": [
      "Shape of the train-set = (65242, 3)\n",
      "\n"
     ]
    },
    {
     "data": {
      "text/html": [
       "<div>\n",
       "<style scoped>\n",
       "    .dataframe tbody tr th:only-of-type {\n",
       "        vertical-align: middle;\n",
       "    }\n",
       "\n",
       "    .dataframe tbody tr th {\n",
       "        vertical-align: top;\n",
       "    }\n",
       "\n",
       "    .dataframe thead th {\n",
       "        text-align: right;\n",
       "    }\n",
       "</style>\n",
       "<table border=\"1\" class=\"dataframe\">\n",
       "  <thead>\n",
       "    <tr style=\"text-align: right;\">\n",
       "      <th></th>\n",
       "      <th>UNIQUE_IDENTIFIER</th>\n",
       "      <th>Y1</th>\n",
       "      <th>Y2</th>\n",
       "    </tr>\n",
       "  </thead>\n",
       "  <tbody>\n",
       "    <tr>\n",
       "      <th>0</th>\n",
       "      <td>98481269471</td>\n",
       "      <td>1.682706</td>\n",
       "      <td>162.035289</td>\n",
       "    </tr>\n",
       "    <tr>\n",
       "      <th>1</th>\n",
       "      <td>98481270499</td>\n",
       "      <td>9.134302</td>\n",
       "      <td>4.972718</td>\n",
       "    </tr>\n",
       "    <tr>\n",
       "      <th>2</th>\n",
       "      <td>98481272694</td>\n",
       "      <td>3.241823</td>\n",
       "      <td>119.685833</td>\n",
       "    </tr>\n",
       "    <tr>\n",
       "      <th>3</th>\n",
       "      <td>98481273365</td>\n",
       "      <td>5.206650</td>\n",
       "      <td>186.116324</td>\n",
       "    </tr>\n",
       "    <tr>\n",
       "      <th>4</th>\n",
       "      <td>98481278321</td>\n",
       "      <td>1.901634</td>\n",
       "      <td>107.374648</td>\n",
       "    </tr>\n",
       "    <tr>\n",
       "      <th>5</th>\n",
       "      <td>98481278505</td>\n",
       "      <td>7.499764</td>\n",
       "      <td>56.777380</td>\n",
       "    </tr>\n",
       "    <tr>\n",
       "      <th>6</th>\n",
       "      <td>98481280559</td>\n",
       "      <td>4.795677</td>\n",
       "      <td>74.851192</td>\n",
       "    </tr>\n",
       "    <tr>\n",
       "      <th>7</th>\n",
       "      <td>98481280993</td>\n",
       "      <td>4.123684</td>\n",
       "      <td>169.927371</td>\n",
       "    </tr>\n",
       "    <tr>\n",
       "      <th>8</th>\n",
       "      <td>98481285757</td>\n",
       "      <td>6.091130</td>\n",
       "      <td>109.360907</td>\n",
       "    </tr>\n",
       "    <tr>\n",
       "      <th>9</th>\n",
       "      <td>98481288648</td>\n",
       "      <td>0.105779</td>\n",
       "      <td>121.248585</td>\n",
       "    </tr>\n",
       "  </tbody>\n",
       "</table>\n",
       "</div>"
      ],
      "text/plain": [
       "   UNIQUE_IDENTIFIER        Y1          Y2\n",
       "0        98481269471  1.682706  162.035289\n",
       "1        98481270499  9.134302    4.972718\n",
       "2        98481272694  3.241823  119.685833\n",
       "3        98481273365  5.206650  186.116324\n",
       "4        98481278321  1.901634  107.374648\n",
       "5        98481278505  7.499764   56.777380\n",
       "6        98481280559  4.795677   74.851192\n",
       "7        98481280993  4.123684  169.927371\n",
       "8        98481285757  6.091130  109.360907\n",
       "9        98481288648  0.105779  121.248585"
      ]
     },
     "metadata": {},
     "output_type": "display_data"
    }
   ],
   "source": [
    "# SAMPLE SUBMISSION FILE\n",
    "\n",
    "sample = pd.read_csv('/content/drive/MyDrive/sample_submission_random.csv')\n",
    "print(f'Shape of the train-set = {sample.shape}')\n",
    "print()\n",
    "display(sample.head(10))"
   ]
  },
  {
   "cell_type": "code",
   "execution_count": null,
   "metadata": {
    "colab": {
     "base_uri": "https://localhost:8080/"
    },
    "execution": {
     "iopub.execute_input": "2021-09-01T13:42:04.259436Z",
     "iopub.status.busy": "2021-09-01T13:42:04.258865Z",
     "iopub.status.idle": "2021-09-01T13:42:04.264952Z",
     "shell.execute_reply": "2021-09-01T13:42:04.265421Z",
     "shell.execute_reply.started": "2021-09-01T13:22:48.200946Z"
    },
    "id": "41e885a8",
    "outputId": "de2be08f-7646-4bb5-da17-696fe9919944",
    "papermill": {
     "duration": 0.084724,
     "end_time": "2021-09-01T13:42:04.265608",
     "exception": false,
     "start_time": "2021-09-01T13:42:04.180884",
     "status": "completed"
    },
    "tags": []
   },
   "outputs": [
    {
     "name": "stdout",
     "output_type": "stream",
     "text": [
      "(65242,)\n",
      "Unique count:\n"
     ]
    },
    {
     "data": {
      "text/plain": [
       "(65242,)"
      ]
     },
     "execution_count": 350,
     "metadata": {},
     "output_type": "execute_result"
    }
   ],
   "source": [
    "print(df_test['UNIQUE_IDENTIFIER'].shape)\n",
    "print('Unique count:')\n",
    "np.unique(np.array(df_test['UNIQUE_IDENTIFIER']), return_counts = True)[0].shape\n",
    "# SO THERE SO MANY DUPLICATE CUSTOMER (UNIQUE_IDENTIFIER) IN test.csv but I have aggregated them"
   ]
  },
  {
   "cell_type": "code",
   "execution_count": null,
   "metadata": {
    "execution": {
     "iopub.execute_input": "2021-09-01T13:42:04.417430Z",
     "iopub.status.busy": "2021-09-01T13:42:04.416898Z",
     "iopub.status.idle": "2021-09-01T13:42:04.420108Z",
     "shell.execute_reply": "2021-09-01T13:42:04.420594Z",
     "shell.execute_reply.started": "2021-09-01T13:22:50.243151Z"
    },
    "id": "19802a66",
    "papermill": {
     "duration": 0.07992,
     "end_time": "2021-09-01T13:42:04.420763",
     "exception": false,
     "start_time": "2021-09-01T13:42:04.340843",
     "status": "completed"
    },
    "tags": []
   },
   "outputs": [],
   "source": [
    "y1_pred = pred_test[:,0]\n",
    "y2_pred = pred_test[:,1]\n",
    "#y2_pred = pred_test[:,0]\n"
   ]
  },
  {
   "cell_type": "code",
   "execution_count": null,
   "metadata": {
    "execution": {
     "iopub.execute_input": "2021-09-01T13:42:04.571550Z",
     "iopub.status.busy": "2021-09-01T13:42:04.570997Z",
     "iopub.status.idle": "2021-09-01T13:42:04.574436Z",
     "shell.execute_reply": "2021-09-01T13:42:04.574881Z",
     "shell.execute_reply.started": "2021-09-01T13:22:52.153133Z"
    },
    "id": "e55672b9",
    "papermill": {
     "duration": 0.080209,
     "end_time": "2021-09-01T13:42:04.575020",
     "exception": false,
     "start_time": "2021-09-01T13:42:04.494811",
     "status": "completed"
    },
    "tags": []
   },
   "outputs": [],
   "source": [
    "dict = {'UNIQUE_IDENTIFIER': df_test['UNIQUE_IDENTIFIER'] ,'Y1': y1_pred, 'Y2' : y2_pred}"
   ]
  },
  {
   "cell_type": "code",
   "execution_count": null,
   "metadata": {
    "execution": {
     "iopub.execute_input": "2021-09-01T13:42:04.727400Z",
     "iopub.status.busy": "2021-09-01T13:42:04.726420Z",
     "iopub.status.idle": "2021-09-01T13:42:04.731067Z",
     "shell.execute_reply": "2021-09-01T13:42:04.731568Z",
     "shell.execute_reply.started": "2021-09-01T13:22:54.968249Z"
    },
    "id": "ee0b0f4d",
    "papermill": {
     "duration": 0.082025,
     "end_time": "2021-09-01T13:42:04.731718",
     "exception": false,
     "start_time": "2021-09-01T13:42:04.649693",
     "status": "completed"
    },
    "tags": []
   },
   "outputs": [],
   "source": [
    "my_submission = pd.DataFrame(dict,index = None)"
   ]
  },
  {
   "cell_type": "code",
   "execution_count": null,
   "metadata": {
    "colab": {
     "base_uri": "https://localhost:8080/",
     "height": 205
    },
    "execution": {
     "iopub.execute_input": "2021-09-01T13:42:04.884160Z",
     "iopub.status.busy": "2021-09-01T13:42:04.883194Z",
     "iopub.status.idle": "2021-09-01T13:42:04.893143Z",
     "shell.execute_reply": "2021-09-01T13:42:04.893629Z",
     "shell.execute_reply.started": "2021-09-01T13:22:56.55675Z"
    },
    "id": "53d603fc",
    "outputId": "11e4e733-1c4e-45e5-dffc-9a2ba4e46b4c",
    "papermill": {
     "duration": 0.088103,
     "end_time": "2021-09-01T13:42:04.893785",
     "exception": false,
     "start_time": "2021-09-01T13:42:04.805682",
     "status": "completed"
    },
    "tags": []
   },
   "outputs": [
    {
     "data": {
      "text/html": [
       "<div>\n",
       "<style scoped>\n",
       "    .dataframe tbody tr th:only-of-type {\n",
       "        vertical-align: middle;\n",
       "    }\n",
       "\n",
       "    .dataframe tbody tr th {\n",
       "        vertical-align: top;\n",
       "    }\n",
       "\n",
       "    .dataframe thead th {\n",
       "        text-align: right;\n",
       "    }\n",
       "</style>\n",
       "<table border=\"1\" class=\"dataframe\">\n",
       "  <thead>\n",
       "    <tr style=\"text-align: right;\">\n",
       "      <th></th>\n",
       "      <th>UNIQUE_IDENTIFIER</th>\n",
       "      <th>Y1</th>\n",
       "      <th>Y2</th>\n",
       "    </tr>\n",
       "  </thead>\n",
       "  <tbody>\n",
       "    <tr>\n",
       "      <th>0</th>\n",
       "      <td>98481269471</td>\n",
       "      <td>3.951281</td>\n",
       "      <td>7.483494</td>\n",
       "    </tr>\n",
       "    <tr>\n",
       "      <th>1</th>\n",
       "      <td>98481270499</td>\n",
       "      <td>4.817670</td>\n",
       "      <td>42.932449</td>\n",
       "    </tr>\n",
       "    <tr>\n",
       "      <th>2</th>\n",
       "      <td>98481272694</td>\n",
       "      <td>4.229680</td>\n",
       "      <td>31.685501</td>\n",
       "    </tr>\n",
       "    <tr>\n",
       "      <th>3</th>\n",
       "      <td>98481273365</td>\n",
       "      <td>4.247539</td>\n",
       "      <td>191.429001</td>\n",
       "    </tr>\n",
       "    <tr>\n",
       "      <th>4</th>\n",
       "      <td>98481278321</td>\n",
       "      <td>3.878090</td>\n",
       "      <td>12.145032</td>\n",
       "    </tr>\n",
       "  </tbody>\n",
       "</table>\n",
       "</div>"
      ],
      "text/plain": [
       "   UNIQUE_IDENTIFIER        Y1          Y2\n",
       "0        98481269471  3.951281    7.483494\n",
       "1        98481270499  4.817670   42.932449\n",
       "2        98481272694  4.229680   31.685501\n",
       "3        98481273365  4.247539  191.429001\n",
       "4        98481278321  3.878090   12.145032"
      ]
     },
     "execution_count": 354,
     "metadata": {},
     "output_type": "execute_result"
    }
   ],
   "source": [
    "my_submission.head()"
   ]
  },
  {
   "cell_type": "code",
   "execution_count": null,
   "metadata": {
    "colab": {
     "base_uri": "https://localhost:8080/"
    },
    "execution": {
     "iopub.execute_input": "2021-09-01T13:42:05.050731Z",
     "iopub.status.busy": "2021-09-01T13:42:05.049783Z",
     "iopub.status.idle": "2021-09-01T13:42:05.054727Z",
     "shell.execute_reply": "2021-09-01T13:42:05.055223Z",
     "shell.execute_reply.started": "2021-09-01T13:22:58.532319Z"
    },
    "id": "34b649a1",
    "outputId": "1afd583b-54ad-469d-d58e-6e8004f71f3c",
    "papermill": {
     "duration": 0.085353,
     "end_time": "2021-09-01T13:42:05.055393",
     "exception": false,
     "start_time": "2021-09-01T13:42:04.970040",
     "status": "completed"
    },
    "tags": []
   },
   "outputs": [
    {
     "data": {
      "text/plain": [
       "(65242, 3)"
      ]
     },
     "execution_count": 355,
     "metadata": {},
     "output_type": "execute_result"
    }
   ],
   "source": [
    "my_submission.shape"
   ]
  },
  {
   "cell_type": "code",
   "execution_count": null,
   "metadata": {
    "execution": {
     "iopub.execute_input": "2021-09-01T13:42:05.215147Z",
     "iopub.status.busy": "2021-09-01T13:42:05.214446Z",
     "iopub.status.idle": "2021-09-01T13:42:05.217261Z",
     "shell.execute_reply": "2021-09-01T13:42:05.217727Z"
    },
    "id": "e8c79199",
    "papermill": {
     "duration": 0.083794,
     "end_time": "2021-09-01T13:42:05.217896",
     "exception": false,
     "start_time": "2021-09-01T13:42:05.134102",
     "status": "completed"
    },
    "tags": []
   },
   "outputs": [],
   "source": [
    "#my_submission = my_submission.drop_duplicates(subset = [\"UNIQUE_IDENTIFIER\"])\n",
    "#my_submission.shape"
   ]
  },
  {
   "cell_type": "code",
   "execution_count": null,
   "metadata": {
    "execution": {
     "iopub.execute_input": "2021-09-01T13:42:05.377217Z",
     "iopub.status.busy": "2021-09-01T13:42:05.376604Z",
     "iopub.status.idle": "2021-09-01T13:42:05.659512Z",
     "shell.execute_reply": "2021-09-01T13:42:05.658995Z",
     "shell.execute_reply.started": "2021-09-01T13:23:05.578084Z"
    },
    "id": "c80b212b",
    "papermill": {
     "duration": 0.363267,
     "end_time": "2021-09-01T13:42:05.659660",
     "exception": false,
     "start_time": "2021-09-01T13:42:05.296393",
     "status": "completed"
    },
    "tags": []
   },
   "outputs": [],
   "source": [
    "my_submission.to_csv('sub9044.csv', index=False)"
   ]
  },
  {
   "cell_type": "code",
   "execution_count": null,
   "metadata": {
    "execution": {
     "iopub.execute_input": "2021-09-01T13:42:05.827007Z",
     "iopub.status.busy": "2021-09-01T13:42:05.818736Z",
     "iopub.status.idle": "2021-09-01T13:42:06.528682Z",
     "shell.execute_reply": "2021-09-01T13:42:06.528113Z"
    },
    "id": "476f4d27",
    "outputId": "6f118a18-337d-4208-ab59-b9d568f91e1a",
    "papermill": {
     "duration": 0.791098,
     "end_time": "2021-09-01T13:42:06.528830",
     "exception": false,
     "start_time": "2021-09-01T13:42:05.737732",
     "status": "completed"
    },
    "tags": []
   },
   "outputs": [
    {
     "name": "stdout",
     "output_type": "stream",
     "text": [
      "__notebook__.ipynb  submission9.csv\r\n"
     ]
    }
   ],
   "source": []
  },
  {
   "cell_type": "code",
   "execution_count": null,
   "metadata": {
    "colab": {
     "base_uri": "https://localhost:8080/"
    },
    "id": "bddd7ec9",
    "outputId": "2441f966-0ae7-4d89-9e29-fd22656720c6",
    "papermill": {
     "duration": 0.078039,
     "end_time": "2021-09-01T13:42:06.685189",
     "exception": false,
     "start_time": "2021-09-01T13:42:06.607150",
     "status": "completed"
    },
    "tags": []
   },
   "outputs": [
    {
     "name": "stdout",
     "output_type": "stream",
     "text": [
      "[Errno 2] No such file or directory: '.. dfdf'\n",
      "/content\n"
     ]
    }
   ],
   "source": [
    "%cd .. dfdf\n"
   ]
  },
  {
   "cell_type": "code",
   "execution_count": null,
   "metadata": {
    "id": "FafeJEH33veI"
   },
   "outputs": [],
   "source": []
  }
 ],
 "metadata": {
  "colab": {
   "collapsed_sections": [],
   "name": "eda-beyondanalysis (1).ipynb",
   "provenance": []
  },
  "kernelspec": {
   "display_name": "Python 3",
   "language": "python",
   "name": "python3"
  },
  "language_info": {
   "codemirror_mode": {
    "name": "ipython",
    "version": 3
   },
   "file_extension": ".py",
   "mimetype": "text/x-python",
   "name": "python",
   "nbconvert_exporter": "python",
   "pygments_lexer": "ipython3",
   "version": "3.8.3"
  },
  "papermill": {
   "default_parameters": {},
   "duration": 73.825276,
   "end_time": "2021-09-01T13:42:08.125322",
   "environment_variables": {},
   "exception": null,
   "input_path": "__notebook__.ipynb",
   "output_path": "__notebook__.ipynb",
   "parameters": {},
   "start_time": "2021-09-01T13:40:54.300046",
   "version": "2.3.3"
  },
  "varInspector": {
   "cols": {
    "lenName": 16,
    "lenType": 16,
    "lenVar": 40
   },
   "kernels_config": {
    "python": {
     "delete_cmd_postfix": "",
     "delete_cmd_prefix": "del ",
     "library": "var_list.py",
     "varRefreshCmd": "print(var_dic_list())"
    },
    "r": {
     "delete_cmd_postfix": ") ",
     "delete_cmd_prefix": "rm(",
     "library": "var_list.r",
     "varRefreshCmd": "cat(var_dic_list()) "
    }
   },
   "types_to_exclude": [
    "module",
    "function",
    "builtin_function_or_method",
    "instance",
    "_Feature"
   ],
   "window_display": false
  }
 },
 "nbformat": 4,
 "nbformat_minor": 5
}
